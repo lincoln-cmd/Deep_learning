{
 "cells": [
  {
   "cell_type": "markdown",
   "metadata": {},
   "source": [
    "# 이미지를 통한 얼굴 인식\n",
    "1. 시스템에 입력된 이미지에서 얼굴 영역을 찾는다.(얼굴 검출, face detection)\n",
    "2. 눈, 코, 입 등 얼굴의 특징점을 찾는다.(얼굴 정렬, face alignment)\n",
    "3. 위 특징들을 통해 얼굴 영역을 동일한 형태와 크기로 변경(정규화, normalization)\n",
    "\n",
    "# 영상을 통한 얼굴 인식\n"
   ]
  },
  {
   "cell_type": "code",
   "execution_count": null,
   "metadata": {},
   "outputs": [],
   "source": [
    "입력된 이미지로 얼굴 인식\n",
    "얼굴의 다른 부위(눈, 코 등) 인식\n",
    "동영상에서 얼굴 인식\n",
    "카메라로 얼굴 인식\n",
    "표정 인식"
   ]
  },
  {
   "cell_type": "markdown",
   "metadata": {},
   "source": [
    "카메라(영상)를 통한 표정 인식"
   ]
  },
  {
   "cell_type": "code",
   "execution_count": 1,
   "metadata": {
    "scrolled": true
   },
   "outputs": [
    {
     "name": "stderr",
     "output_type": "stream",
     "text": [
      "  % Total    % Received % Xferd  Average Speed   Time    Time     Time  Current\n",
      "                                 Dload  Upload   Total   Spent    Left  Speed\n",
      "\n",
      "  0     0    0     0    0     0      0      0 --:--:-- --:--:-- --:--:--     0\n",
      "  2  908k    2 19194    0     0  47985      0  0:00:19 --:--:--  0:00:19 47865\n",
      " 51  908k   51  464k    0     0   320k      0  0:00:02  0:00:01  0:00:01  320k\n",
      " 69  908k   69  630k    0     0   261k      0  0:00:03  0:00:02  0:00:01  261k\n",
      " 85  908k   85  776k    0     0   227k      0  0:00:03  0:00:03 --:--:--  227k\n",
      " 97  908k   97  888k    0     0   196k      0  0:00:04  0:00:04 --:--:--  196k\n",
      "100  908k  100  908k    0     0   200k      0  0:00:04  0:00:04 --:--:--  215k\n",
      "  % Total    % Received % Xferd  Average Speed   Time    Time     Time  Current\n",
      "                                 Dload  Upload   Total   Spent    Left  Speed\n",
      "\n",
      "  0     0    0     0    0     0      0      0 --:--:-- --:--:-- --:--:--     0\n",
      "  3  878k    3 34137    0     0  38485      0  0:00:23 --:--:--  0:00:23 38442\n",
      "100  878k  100  878k    0     0   560k      0  0:00:01  0:00:01 --:--:--  560k\n"
     ]
    }
   ],
   "source": [
    "\n",
    "!if not exist \"./files\" mkdir files\n",
    "# Download Face detection XML \n",
    "!curl -L -o ./files/haarcascade_frontalface_default.xml https://raw.githubusercontent.com/opencv/opencv/master/data/haarcascades/haarcascade_frontalface_default.xml\n",
    "# Download emotion trained data\n",
    "!curl -L -o ./files/emotion_model.hdf5 https://mechasolution.vn/source/blog/AI-tutorial/Emotion_Recognition/emotion_model.hdf5"
   ]
  },
  {
   "cell_type": "code",
   "execution_count": 1,
   "metadata": {},
   "outputs": [],
   "source": [
    "import cv2\n",
    "import numpy as np\n",
    "from tensorflow.keras.preprocessing.image import img_to_array\n",
    "from tensorflow.keras.models import load_model\n"
   ]
  },
  {
   "cell_type": "code",
   "execution_count": 2,
   "metadata": {
    "scrolled": true
   },
   "outputs": [
    {
     "ename": "KeyboardInterrupt",
     "evalue": "",
     "output_type": "error",
     "traceback": [
      "\u001b[1;31m---------------------------------------------------------------------------\u001b[0m",
      "\u001b[1;31mKeyboardInterrupt\u001b[0m                         Traceback (most recent call last)",
      "\u001b[1;32m<ipython-input-2-5370d1840c52>\u001b[0m in \u001b[0;36m<module>\u001b[1;34m\u001b[0m\n\u001b[0;32m     18\u001b[0m     faces = face_detection.detectMultiScale(gray, scaleFactor = 1.1, minNeighbors = 5,\n\u001b[0;32m     19\u001b[0m                                            minSize = (30, 30))\n\u001b[1;32m---> 20\u001b[1;33m     \u001b[0mcanvas\u001b[0m \u001b[1;33m=\u001b[0m \u001b[0mnp\u001b[0m\u001b[1;33m.\u001b[0m\u001b[0mzeros\u001b[0m\u001b[1;33m(\u001b[0m\u001b[1;33m(\u001b[0m\u001b[1;36m250\u001b[0m\u001b[1;33m,\u001b[0m \u001b[1;36m300\u001b[0m\u001b[1;33m,\u001b[0m \u001b[1;36m3\u001b[0m\u001b[1;33m)\u001b[0m\u001b[1;33m,\u001b[0m \u001b[0mdtype\u001b[0m \u001b[1;33m=\u001b[0m \u001b[1;34m'uint8'\u001b[0m\u001b[1;33m)\u001b[0m\u001b[1;33m\u001b[0m\u001b[1;33m\u001b[0m\u001b[0m\n\u001b[0m\u001b[0;32m     21\u001b[0m \u001b[1;33m\u001b[0m\u001b[0m\n\u001b[0;32m     22\u001b[0m     \u001b[1;32mif\u001b[0m \u001b[0mlen\u001b[0m\u001b[1;33m(\u001b[0m\u001b[0mfaces\u001b[0m\u001b[1;33m)\u001b[0m \u001b[1;33m>\u001b[0m \u001b[1;36m0\u001b[0m\u001b[1;33m:\u001b[0m\u001b[1;33m\u001b[0m\u001b[1;33m\u001b[0m\u001b[0m\n",
      "\u001b[1;31mKeyboardInterrupt\u001b[0m: "
     ]
    }
   ],
   "source": [
    "face_detection = cv2.CascadeClassifier('./files/haarcascade_frontalface_default.xml')\n",
    "emotion_classifier = load_model('./files/emotion_model.hdf5', compile = False)\n",
    "EMOTIONS = [\"Angry\" ,\"Disgusting\",\"Fearful\", \"Happy\", \"Sad\", \"Surpring\", \"Neutral\"]\n",
    "\n",
    "# camera객체 생성\n",
    "camera = cv2.VideoCapture(0)\n",
    "\n",
    "while True:\n",
    "    # camera에서 이미지 캡쳐\n",
    "    ret, frame = camera.read()\n",
    "    # 이미지의 색상을 흑백으로 변환\n",
    "    # cv2.cvtColor(원본 이미지, 색상 변환 코드)\n",
    "    # HSV : Hue, Saturation, Value -> 색상, 채도, 명도\n",
    "    \n",
    "    \n",
    "    # cv2.cvtColor(frame, cv2.COLOR_BRG2GRAY) -> cv2.imread(frame, cv2.IMREAD_GRAYSCALE)\n",
    "    gray = cv2.imread(frame, cv2.IMREAD_GRAYSCALE)\n",
    "    faces = face_detection.detectMultiScale(gray, scaleFactor = 1.1, minNeighbors = 5,\n",
    "                                           minSize = (30, 30))\n",
    "    canvas = np.zeros((250, 300, 3), dtype = 'uint8')\n",
    "    \n",
    "    if len(faces) > 0:\n",
    "        face = sorted(faces, reverse = True, key = lambda x: (x[2] - x[0]) * \n",
    "                     (x[3] - x[1]))[0]\n",
    "        (fX, fY, fW, fH) = face\n",
    "        \n",
    "        roi = cv2.resize(roi, (48, 48))\n",
    "        roi = roi.astype('float') / 255.0\n",
    "        roi = img_to_array(roi)\n",
    "        roi = np.expand_dims(roi, axis = 0)\n",
    "        \n",
    "        preds = emotion_classifier.predict(roi)[0]\n",
    "        emotion_probability = np.max(preds)\n",
    "        label = EMOTIONS[preds.argmax()]\n",
    "        \n",
    "        cv2.putText(frame, label, (fX, fY - 10), cv2.FONT_HERSHEY_SIMPLEX, 0.45, (0, 0, 255), 2)\n",
    "        cv2.rectangle(frame, (fX, fY), (fX + fW, fY + fH), (0, 0, 255), 2)\n",
    "        \n",
    "        for (i, (emotion, prob)) in enumerate(zip(EMOTIONS, preds)):\n",
    "            text = '{} : {:.2f}%'.formate(emotion, prob * 100)\n",
    "            w = int(prob * 300)\n",
    "            cv2.rectangle(canvas, (7, (i * 35) + 5), (w, (i * 35) + 35), (0, 0, 255), -1)\n",
    "            cv2.putText(canvas, text, (10, (i * 35) + 23), cv2.FONT_HERSHEY_SIMPLEX, 0.45, (255, 255, 255), 2)\n",
    "            \n",
    "        cv2.imshow('Emotion Recognition', frame)\n",
    "        cv2.imshow('Probabilities', canvas)\n",
    "        \n",
    "        if cv2.waitKey(1) & 0xFF == ord('q'): # 키보드 'q'를 누를때까지 대기\n",
    "            break\n",
    "            \n",
    "camera.release()\n",
    "cv2.destroyAllWindows()"
   ]
  },
  {
   "cell_type": "code",
   "execution_count": null,
   "metadata": {},
   "outputs": [],
   "source": [
    "# cv2.imshow() : 그려진 파일을 보여준다.\n",
    "# cv2.waitKey() : 키 입력이 있을 때까지 대기\n",
    "# cv2.desoyAllWindows() : 윈도우창 종료"
   ]
  },
  {
   "cell_type": "code",
   "execution_count": null,
   "metadata": {},
   "outputs": [],
   "source": []
  },
  {
   "cell_type": "markdown",
   "metadata": {},
   "source": [
    "이미지를 통한 얼굴 인식\n",
    "- 소프트맥스 손실 함수(sortmax loss function)\n",
    "\n",
    "> 1) 교차 엔트로피(cross entropy)가 소프트 맥스 확률 분포와 정답 분포 사이의 오차를 계산\n",
    "\n",
    "> 단점 : (1) 많은 데이터의 특징 공간을 효율적으로 학습하기 어렵다. (2) 전체적인 최적화를 고려하지 못하고 국부적인 최적 지점으로 쉽게 수렴할 수 있다. (3) 학습하지 않은 새로운 얼굴 이미지의 인식 성능이 낮아질 수 있다.\n",
    "\n",
    "- 거리 기반 손실 함수(distance-based loss function)\n",
    "\n",
    "> 대표적인 거리 기반 손실 함수 : 대비(contrastive), 트리플렛(triplet)\n",
    "\n",
    "> 대비 손실 함수 : 두 얼굴 이미지의 쌍을 구성해 두 특징 벡터 간의 거리를 계산한다. 손실 값은 동일인의 두 벡터 간 거리가 멀거나, 비동일인의 두 벡터간 거리가 가까우면 커진다.\n",
    "\n",
    "> 대비 손실 함수의 단점 : 동일인에 해당하는 두 벡터 거리와 비동일인의 두 벡터 거리가 개별적으로 학습된다.\n",
    "\n",
    "> 트리플렛 손실 함수 : 범주가같은 벡터 간의 거리와 범주가 다른 벡터 간의 거리의 상대적 관계를 고려하는 방식으로 문제를 해결.\n",
    "기준 이미지(a), 동일인 이미지(p), 비동일인 이미지(n)으로 구성된 트리플렛(a, p, n)을 구성 후, a와 p의 벡터 간 거리를 줄이는 동시에, a와 n의 벡터 간 거리를 넓혀서 거리차(|a-n| - |a-p|)가 개발자가 임의로 정한 마진값보다 크도록 한다. -> 대비 손실 함수로 학습된 인식 모델보다 더 높은 추론 성능을 보이는 경향이 있다.\n",
    "\n",
    "> 트리프렛 손실 함수의 단점 : 얼굴 인식 관련 딥러닝 모델에서 거리 기반 손실 함수를 잘 사용하지 않는 추세이다. 트리플렛을 구성하는 방식에 따라 성능이 크게 달라진다. 특히 범주 수가 많을수록 효과적인 트리플렛을 구성하기가 어렵다. 컴퓨팅 비용도 많이 소모된다.\n",
    "범주의 수가 수십 ~ 수백개 수준일 때 효과적이나, 수천 개 이상이면 잘 동작하지 않는다.\n",
    "\n",
    "\n",
    "- 앵귤러 마진 기반 손실 함수(angular margin based loss function)\n",
    "\n",
    "> 앵귤러 마진을 추가한 소프트 맥스 기반 손실 함수를 이용해 서로 다른 인물 간 거리를 충분히 넓히는 방향으로 진행되고 있는 추세. 모델의 일반화 성능이 높다.\n",
    "\n",
    "\n",
    "''' https://tech.kakaoenterprise.com/63 '''"
   ]
  },
  {
   "cell_type": "code",
   "execution_count": 9,
   "metadata": {
    "scrolled": true
   },
   "outputs": [
    {
     "name": "stderr",
     "output_type": "stream",
     "text": [
      "  % Total    % Received % Xferd  Average Speed   Time    Time     Time  Current\n",
      "                                 Dload  Upload   Total   Spent    Left  Speed\n",
      "\n",
      "  0     0    0     0    0     0      0      0 --:--:-- --:--:-- --:--:--     0\n",
      "  0     0    0     0    0     0      0      0 --:--:--  0:00:01 --:--:--     0\n",
      "100 3024k    0 3024k    0     0  2392k      0 --:--:--  0:00:01 --:--:-- 2390k\n",
      "100 3132k    0 3132k    0     0  2470k      0 --:--:--  0:00:01 --:--:-- 2468k\n"
     ]
    }
   ],
   "source": [
    "# !if not exist './files/haarcascade_eye.xml' mkdir files\n",
    "!curl -L -o ./files/haarcascade_eye.xml https://github.com/opencv/opencv/blob/master/data/haarcascades/haarcascade_eye.xml"
   ]
  },
  {
   "cell_type": "code",
   "execution_count": 2,
   "metadata": {
    "scrolled": true
   },
   "outputs": [
    {
     "name": "stderr",
     "output_type": "stream",
     "text": [
      "  % Total    % Received % Xferd  Average Speed   Time    Time     Time  Current\n",
      "                                 Dload  Upload   Total   Spent    Left  Speed\n",
      "\n",
      "  0     0    0     0    0     0      0      0 --:--:-- --:--:-- --:--:--     0\n",
      "  0     0    0     0    0     0      0      0 --:--:--  0:00:01 --:--:--     0\n",
      "  0     0    0     0    0     0      0      0 --:--:--  0:00:02 --:--:--     0\n",
      "100 7138k    0 7138k    0     0  2896k      0 --:--:--  0:00:02 --:--:-- 2894k\n",
      "100 8446k    0 8446k    0     0  3352k      0 --:--:--  0:00:02 --:--:-- 3351k\n",
      "  % Total    % Received % Xferd  Average Speed   Time    Time     Time  Current\n",
      "                                 Dload  Upload   Total   Spent    Left  Speed\n",
      "\n",
      "  0     0    0     0    0     0      0      0 --:--:-- --:--:-- --:--:--     0\n",
      "100  480k    0  480k    0     0   521k      0 --:--:-- --:--:-- --:--:--  521k\n",
      "100 3132k    0 3132k    0     0  2949k      0 --:--:--  0:00:01 --:--:-- 2949k\n"
     ]
    }
   ],
   "source": [
    "!curl -L -o C:/Users/sbs/Desktop/김동훈/Portfolio/files/haarcascade_frontalface_default.xml https://github.com/opencv/opencv/blob/master/data/haarcascades/haarcascade_frontalface_default.xml\n",
    "!curl -L -o C:/Users/sbs/Desktop/김동훈/Portfolio/files/haarcascade_eye.xml https://github.com/opencv/opencv/blob/master/data/haarcascades/haarcascade_eye.xml"
   ]
  },
  {
   "cell_type": "code",
   "execution_count": 3,
   "metadata": {},
   "outputs": [
    {
     "ename": "error",
     "evalue": "OpenCV(4.4.0) C:\\Users\\appveyor\\AppData\\Local\\Temp\\1\\pip-req-build-6sxsq0tp\\opencv\\modules\\imgproc\\src\\color.cpp:182: error: (-215:Assertion failed) !_src.empty() in function 'cv::cvtColor'\n",
     "output_type": "error",
     "traceback": [
      "\u001b[1;31m---------------------------------------------------------------------------\u001b[0m",
      "\u001b[1;31merror\u001b[0m                                     Traceback (most recent call last)",
      "\u001b[1;32m<ipython-input-3-4e84e2cd6821>\u001b[0m in \u001b[0;36m<module>\u001b[1;34m\u001b[0m\n\u001b[0;32m      8\u001b[0m \u001b[1;33m\u001b[0m\u001b[0m\n\u001b[0;32m      9\u001b[0m \u001b[0msrc\u001b[0m \u001b[1;33m=\u001b[0m \u001b[0mcv2\u001b[0m\u001b[1;33m.\u001b[0m\u001b[0mimread\u001b[0m\u001b[1;33m(\u001b[0m\u001b[1;34m'C:/Users/sbs/Desktop/김동훈/Portfolio/files/face.jpg'\u001b[0m\u001b[1;33m)\u001b[0m\u001b[1;33m\u001b[0m\u001b[1;33m\u001b[0m\u001b[0m\n\u001b[1;32m---> 10\u001b[1;33m \u001b[0msrc_gray\u001b[0m \u001b[1;33m=\u001b[0m \u001b[0mcv2\u001b[0m\u001b[1;33m.\u001b[0m\u001b[0mcvtColor\u001b[0m\u001b[1;33m(\u001b[0m\u001b[0msrc\u001b[0m\u001b[1;33m,\u001b[0m \u001b[0mcv2\u001b[0m\u001b[1;33m.\u001b[0m\u001b[0mCOLOR_BGR2GRAY\u001b[0m\u001b[1;33m)\u001b[0m\u001b[1;33m\u001b[0m\u001b[1;33m\u001b[0m\u001b[0m\n\u001b[0m\u001b[0;32m     11\u001b[0m \u001b[1;33m\u001b[0m\u001b[0m\n\u001b[0;32m     12\u001b[0m \u001b[1;33m\u001b[0m\u001b[0m\n",
      "\u001b[1;31merror\u001b[0m: OpenCV(4.4.0) C:\\Users\\appveyor\\AppData\\Local\\Temp\\1\\pip-req-build-6sxsq0tp\\opencv\\modules\\imgproc\\src\\color.cpp:182: error: (-215:Assertion failed) !_src.empty() in function 'cv::cvtColor'\n"
     ]
    }
   ],
   "source": [
    "import cv2\n",
    "\n",
    "# xml파일을 변수에 설정\n",
    "face_cascade = cv2.CascadeClassifier('C:/Users/sbs/Desktop/김동훈/Portfolio/files/haarcascade_frontalface_default.xml')\n",
    "eye_cascade = cv2.CascadeClassifier('C:/Users/sbs/Desktop/김동훈/Portfolio/files/haarcascade_eye.xml')\n",
    "\n",
    "\n",
    "\n",
    "src = cv2.imread('C:/Users/sbs/Desktop/김동훈/Portfolio/files/face.jpg')\n",
    "src_gray = cv2.cvtColor(src, cv2.COLOR_BGR2GRAY)\n",
    "\n",
    "\n",
    "\n",
    "# detectMultiScale() : 얼굴을 인식해 검출하는 부분(a, b, c)\n",
    "# a : 사진 정보, b : scaleFactor, 사진에서 얼굴이나 눈 등 지정한 형태를 찾을 정밀도, 기본값은 1.1\n",
    "# c : minNeighbors, 얼굴 사이의 최소 간격, 기본값은 3 (b, c는 생략 가능)\n",
    "faces = face_cascade.detectMultiScale(src_gray, 1.1, 3)\n",
    "# 얼굴이 검출되면 (x, y, w, h)의 값을 가진 리스트 형태로 위치를 반환\n",
    "# x, y : 검출된 얼굴의 좌상단 위치\n",
    "# w, h : 가로, 세로 크기\n",
    "\n",
    "\n",
    "\n",
    "for x, y, w, h in faces: # 얼굴\n",
    "    # cv2.rectangle(a, b, c, d, e) -> 사각형\n",
    "    # a : 이미지 정보\n",
    "    # b : 좌측 상단 좌표\n",
    "    # c : 우측 하단 좌표\n",
    "    # d : brg색상\n",
    "    # e : 사각형과 색상의 형태(두께). -1로 주면 사각형이 색으로 다 채워지고, 다른 양수값으로 넣으면 색이 다 채워지지 않은, 값에따라 변하는 두께의 사각형\n",
    "    cv2.rectangle(src, (x, y), (x + w, y + h), (255, 0, 0), 2)\n",
    "    face = src[y: y + h, x: x + w]\n",
    "    face_gray = src_gray[y: y + h, x: x + w]\n",
    "    eyes = eye_cascade.detectMultiScale(face_gray) # (face_gray, 1.1, 3) -> 1.1, 3은 기본값\n",
    "    for (ex, ey, ew, eh) in eyes: # 눈\n",
    "        cv2.rectangle(face, (ex, ey), (ex + ew, ey + eh), (0, 255, 0), 2)\n",
    "\n",
    "        \n",
    "        \n",
    "# cv2.imwrite (a, b). a : 저장될 파일명, b : 저장할 이미지\n",
    "cv2.imwrite('C:/Users/sbs/Desktop/김동훈/Portfolio/files/face_cascade.jpg', src)\n",
    "\n",
    "\n",
    "\n",
    "\n",
    "\n",
    "'''https://ponyozzang.tistory.com/597 참조'''"
   ]
  },
  {
   "cell_type": "code",
   "execution_count": null,
   "metadata": {},
   "outputs": [],
   "source": [
    "# cv2.line(img, start, end, color, thickness)\n",
    "# cv2.circle(img, center, radian, color, thickness)\n",
    "# cv2.rectangle(img, start, end, color, thickness)\n",
    "# cv2.ellipse(img, center, axes, angle, startAngle, endAngle, color, thickness)\n",
    "# cv2.polylines(imge, pts, isClosed, color, thickness) -> 다각형\n",
    "# cv2.putText(img, text, org, font, fontScale, color) -> 텍스트 삽입. org : 문자열의 위치\n",
    "\n",
    "# thickness : pixel값으로 int를 넣어준다."
   ]
  },
  {
   "cell_type": "code",
   "execution_count": null,
   "metadata": {},
   "outputs": [],
   "source": []
  },
  {
   "cell_type": "code",
   "execution_count": null,
   "metadata": {},
   "outputs": [],
   "source": []
  },
  {
   "cell_type": "code",
   "execution_count": null,
   "metadata": {},
   "outputs": [],
   "source": []
  },
  {
   "cell_type": "code",
   "execution_count": null,
   "metadata": {},
   "outputs": [],
   "source": [
    "'''참고 자료'''\n",
    "\n",
    "\n",
    "'''\n",
    "https://m.blog.naver.com/roboholic84/221633210887 - 딥러닝으로 표정 인식하기 알고리즘\n",
    "https://tech.kakaoenterprise.com/63 - 얼굴 인식 알고리즘 선행 연구\n",
    "http://www.kibme.org/resources/journal/20180801145420149.pdf - (논문) 딥러닝 기반 얼굴 검출,\n",
    "랜드마크 검출 및 얼굴 인식 기술 연구 동향\n",
    "https://openaccess.thecvf.com/content_CVPR_2020/papers/Kim_GroupFace_Learning_Latent_Groups_and_Constructing_Group-Based_Representations_for_Face_CVPR_2020_paper.pdf - AI Lab 논문\n",
    "https://ukayzm.github.io/python-face-recognition/ - face_recognition을 활용한 얼굴 인식\n",
    "http://suyeongpark.me/archives/6062 - OpenCV 4로 배우는 컴퓨터 비전과 머신 러닝/ 객체 검출\n",
    "\n",
    "\n",
    "\n",
    "'''"
   ]
  }
 ],
 "metadata": {
  "kernelspec": {
   "display_name": "Python 3",
   "language": "python",
   "name": "python3"
  },
  "language_info": {
   "codemirror_mode": {
    "name": "ipython",
    "version": 3
   },
   "file_extension": ".py",
   "mimetype": "text/x-python",
   "name": "python",
   "nbconvert_exporter": "python",
   "pygments_lexer": "ipython3",
   "version": "3.7.9"
  }
 },
 "nbformat": 4,
 "nbformat_minor": 4
}
