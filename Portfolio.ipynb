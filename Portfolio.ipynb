{
 "cells": [
  {
   "cell_type": "markdown",
   "metadata": {},
   "source": [
    "# 이미지를 통한 얼굴 인식\n",
    "1. 시스템에 입력된 이미지에서 얼굴 영역을 찾는다.(얼굴 검출, face detection)\n",
    "2. 눈, 코, 입 등 얼굴의 특징점을 찾는다.(얼굴 정렬, face alignment)\n",
    "3. 위 특징들을 통해 얼굴 영역을 동일한 형태와 크기로 변경(정규화, normalization)\n",
    "\n",
    "# 영상을 통한 얼굴 인식\n"
   ]
  },
  {
   "cell_type": "code",
   "execution_count": null,
   "metadata": {},
   "outputs": [],
   "source": []
  },
  {
   "cell_type": "markdown",
   "metadata": {},
   "source": [
    "영상을 통한 표정 인식"
   ]
  },
  {
   "cell_type": "code",
   "execution_count": 1,
   "metadata": {
    "scrolled": true
   },
   "outputs": [
    {
     "name": "stderr",
     "output_type": "stream",
     "text": [
      "  % Total    % Received % Xferd  Average Speed   Time    Time     Time  Current\n",
      "                                 Dload  Upload   Total   Spent    Left  Speed\n",
      "\n",
      "  0     0    0     0    0     0      0      0 --:--:-- --:--:-- --:--:--     0\n",
      "  2  908k    2 19194    0     0  47985      0  0:00:19 --:--:--  0:00:19 47865\n",
      " 51  908k   51  464k    0     0   320k      0  0:00:02  0:00:01  0:00:01  320k\n",
      " 69  908k   69  630k    0     0   261k      0  0:00:03  0:00:02  0:00:01  261k\n",
      " 85  908k   85  776k    0     0   227k      0  0:00:03  0:00:03 --:--:--  227k\n",
      " 97  908k   97  888k    0     0   196k      0  0:00:04  0:00:04 --:--:--  196k\n",
      "100  908k  100  908k    0     0   200k      0  0:00:04  0:00:04 --:--:--  215k\n",
      "  % Total    % Received % Xferd  Average Speed   Time    Time     Time  Current\n",
      "                                 Dload  Upload   Total   Spent    Left  Speed\n",
      "\n",
      "  0     0    0     0    0     0      0      0 --:--:-- --:--:-- --:--:--     0\n",
      "  3  878k    3 34137    0     0  38485      0  0:00:23 --:--:--  0:00:23 38442\n",
      "100  878k  100  878k    0     0   560k      0  0:00:01  0:00:01 --:--:--  560k\n"
     ]
    }
   ],
   "source": [
    "\n",
    "!if not exist \"./files\" mkdir files\n",
    "# Download Face detection XML \n",
    "!curl -L -o ./files/haarcascade_frontalface_default.xml https://raw.githubusercontent.com/opencv/opencv/master/data/haarcascades/haarcascade_frontalface_default.xml\n",
    "# Download emotion trained data\n",
    "!curl -L -o ./files/emotion_model.hdf5 https://mechasolution.vn/source/blog/AI-tutorial/Emotion_Recognition/emotion_model.hdf5"
   ]
  },
  {
   "cell_type": "code",
   "execution_count": 2,
   "metadata": {},
   "outputs": [],
   "source": [
    "import cv2\n",
    "import numpy as np\n",
    "from tensorflow.keras.preprocessing.image import img_to_array\n",
    "from tensorflow.keras.models import load_model\n"
   ]
  },
  {
   "cell_type": "code",
   "execution_count": 7,
   "metadata": {},
   "outputs": [
    {
     "ename": "error",
     "evalue": "OpenCV(4.4.0) C:\\Users\\appveyor\\AppData\\Local\\Temp\\1\\pip-req-build-6sxsq0tp\\opencv\\modules\\imgproc\\src\\color.cpp:182: error: (-215:Assertion failed) !_src.empty() in function 'cv::cvtColor'\n",
     "output_type": "error",
     "traceback": [
      "\u001b[1;31m---------------------------------------------------------------------------\u001b[0m",
      "\u001b[1;31merror\u001b[0m                                     Traceback (most recent call last)",
      "\u001b[1;32m<ipython-input-7-478b39435070>\u001b[0m in \u001b[0;36m<module>\u001b[1;34m\u001b[0m\n\u001b[0;32m     13\u001b[0m     \u001b[1;31m# HSV : Hue, Saturation, Value -> 색상, 채도, 명도\u001b[0m\u001b[1;33m\u001b[0m\u001b[1;33m\u001b[0m\u001b[1;33m\u001b[0m\u001b[0m\n\u001b[0;32m     14\u001b[0m \u001b[1;33m\u001b[0m\u001b[0m\n\u001b[1;32m---> 15\u001b[1;33m     \u001b[0mgray\u001b[0m \u001b[1;33m=\u001b[0m \u001b[0mcv2\u001b[0m\u001b[1;33m.\u001b[0m\u001b[0mcvtColor\u001b[0m\u001b[1;33m(\u001b[0m\u001b[0mframe\u001b[0m\u001b[1;33m,\u001b[0m \u001b[0mcv2\u001b[0m\u001b[1;33m.\u001b[0m\u001b[0mCOLOR_BGR2HSV\u001b[0m\u001b[1;33m)\u001b[0m\u001b[1;33m\u001b[0m\u001b[1;33m\u001b[0m\u001b[0m\n\u001b[0m\u001b[0;32m     16\u001b[0m     faces = face_detection.detectMultiScale(gray, scaleFactor = 1.1, minNeighbors = 5,\n\u001b[0;32m     17\u001b[0m                                            minSize = (30, 30))\n",
      "\u001b[1;31merror\u001b[0m: OpenCV(4.4.0) C:\\Users\\appveyor\\AppData\\Local\\Temp\\1\\pip-req-build-6sxsq0tp\\opencv\\modules\\imgproc\\src\\color.cpp:182: error: (-215:Assertion failed) !_src.empty() in function 'cv::cvtColor'\n"
     ]
    }
   ],
   "source": [
    "face_detection = cv2.CascadeClassifier('files/haarcascade_frontalface_default.xml')\n",
    "emotion_classifier = load_model('files/emotion_model.hdf5', compile = False)\n",
    "EMOTIONS = [\"Angry\" ,\"Disgusting\",\"Fearful\", \"Happy\", \"Sad\", \"Surpring\", \"Neutral\"]\n",
    "\n",
    "# camera객체 생성\n",
    "camera = cv2.VideoCapture(0)\n",
    "\n",
    "while True:\n",
    "    # camera에서 이미지 캡쳐\n",
    "    ret, frame = camera.read()\n",
    "    # 이미지의 색상을 흑백으로 변환\n",
    "    # cv2.cvtColor(원본 이미지, 색상 변환 코드)\n",
    "    # HSV : Hue, Saturation, Value -> 색상, 채도, 명도\n",
    "    \n",
    "    gray = cv2.cvtColor(frame, cv2.COLOR_BGR2HSV)\n",
    "    faces = face_detection.detectMultiScale(gray, scaleFactor = 1.1, minNeighbors = 5,\n",
    "                                           minSize = (30, 30))\n",
    "    canvas = np.zeros((250, 300, 3), dtype = 'uint8')\n",
    "    \n",
    "    if len(faces) > 0:\n",
    "        face = sorted(faces, reverse = True, key = lambda x: (x[2] - x[0]) * \n",
    "                     (x[3] - x[1]))[0]\n",
    "        (fX, fY, fW, fH) = face\n",
    "        \n",
    "        roi = cv2.resize(roi, (48, 48))\n",
    "        roi = roi.astype('float') / 255.0\n",
    "        roi = img_to_array(roi)\n",
    "        roi = np.expand_dims(roi, axis = 0)\n",
    "        \n",
    "        preds = emotion_classifier.predict(roi)[0]\n",
    "        emotion_probability = np.max(preds)\n",
    "        label = EMOTIONS[preds.argmax()]\n",
    "        \n",
    "        cv2.putText(frame, label, (fX, fY - 10), cv2.FONT_HERSHEY_SIMPLEX, 0.45, (0, 0, 255), 2)\n",
    "        cv2.rectangle(frame, (fX, fY), (fX + fW, fY + fH), (0, 0, 255), 2)\n",
    "        \n",
    "        for (i, (emotion, prob)) in enumerate(zip(EMOTIONS, preds)):\n",
    "            text = '{} : {:.2f}%'.formate(emotion, prob * 100)\n",
    "            w = int(prob * 300)\n",
    "            cv2.rectangle(canvas, (7, (i * 35) + 5), (w, (i * 35) + 35), (0, 0, 255), -1)\n",
    "            cv2.putText(canvas, text, (10, (i * 35) + 23), cv2.FONT_HERSHEY_SIMPLEX, 0.45, (255, 255, 255), 2)\n",
    "            \n",
    "        cv2.imshow('Emotion Recognition', frame)\n",
    "        cv2.imshow('Probabilities', canvas)\n",
    "        \n",
    "        if cv2.waitKey(1) & 0xFF == ord('q'):\n",
    "            break\n",
    "            \n",
    "camera.release()\n",
    "cv2.destroyAllWindows()"
   ]
  },
  {
   "cell_type": "code",
   "execution_count": null,
   "metadata": {},
   "outputs": [],
   "source": []
  },
  {
   "cell_type": "code",
   "execution_count": null,
   "metadata": {},
   "outputs": [],
   "source": []
  },
  {
   "cell_type": "markdown",
   "metadata": {},
   "source": [
    "이미지를 통한 얼굴 인식\n",
    "- 소프트맥스 손실 함수(sortmax loss function)\n",
    "\n",
    "> 1) 교차 엔트로피(cross entropy)가 소프트 맥스 확률 분포와 정답 분포 사이의 오차를 계산\n",
    "\n",
    "> 단점 : (1) 많은 데이터의 특징 공간을 효율적으로 학습하기 어렵다. (2) 전체적인 최적화를 고려하지 못하고 국부적인 최적 지점으로 쉽게 수렴할 수 있다. (3) 학습하지 않은 새로운 얼굴 이미지의 인식 성능이 낮아질 수 있다.\n",
    "\n",
    "- 거리 기반 손실 함수(distance-based loss function)\n",
    "\n",
    "> 대표적인 거리 기반 손실 함수 : 대비(contrastive), 트리플렛(triplet)\n",
    "\n",
    "> 대비 손실 함수 : 두 얼굴 이미지의 쌍을 구성해 두 특징 벡터 간의 거리를 계산한다. 손실 값은 동일인의 두 벡터 간 거리가 멀거나, 비동일인의 두 벡터간 거리가 가까우면 커진다.\n",
    "\n",
    "> 대비 손실 함수의 단점 : 동일인에 해당하는 두 벡터 거리와 비동일인의 두 벡터 거리가 개별적으로 학습된다.\n",
    "\n",
    "> 트리플렛 손실 함수\n",
    "\n",
    "\n",
    "- 앵귤러 마진 기반 손실 함수(angular margin based loss function)\n",
    "\n",
    "\n",
    "''' https://tech.kakaoenterprise.com/63 '''"
   ]
  },
  {
   "cell_type": "code",
   "execution_count": null,
   "metadata": {},
   "outputs": [],
   "source": []
  },
  {
   "cell_type": "code",
   "execution_count": null,
   "metadata": {},
   "outputs": [],
   "source": []
  },
  {
   "cell_type": "code",
   "execution_count": null,
   "metadata": {},
   "outputs": [],
   "source": [
    "'''참고 자료'''\n",
    "\n",
    "\n",
    "'''\n",
    "https://m.blog.naver.com/roboholic84/221633210887 - 딥러닝으로 표정 인식하기 알고리즘\n",
    "https://tech.kakaoenterprise.com/63 - 얼굴 인식 알고리즘 선행 연구\n",
    "http://www.kibme.org/resources/journal/20180801145420149.pdf - (논문) 딥러닝 기반 얼굴 검출,\n",
    "랜드마크 검출 및 얼굴 인식 기술 연구 동향\n",
    "https://openaccess.thecvf.com/content_CVPR_2020/papers/Kim_GroupFace_Learning_Latent_Groups_and_Constructing_Group-Based_Representations_for_Face_CVPR_2020_paper.pdf - AI Lab 논문\n",
    "\n",
    "\n",
    "\n",
    "\n",
    "'''"
   ]
  }
 ],
 "metadata": {
  "kernelspec": {
   "display_name": "Python 3",
   "language": "python",
   "name": "python3"
  },
  "language_info": {
   "codemirror_mode": {
    "name": "ipython",
    "version": 3
   },
   "file_extension": ".py",
   "mimetype": "text/x-python",
   "name": "python",
   "nbconvert_exporter": "python",
   "pygments_lexer": "ipython3",
   "version": "3.7.9"
  }
 },
 "nbformat": 4,
 "nbformat_minor": 4
}
