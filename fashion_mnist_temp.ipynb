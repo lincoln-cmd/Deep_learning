{
 "cells": [
  {
   "cell_type": "code",
   "execution_count": 1,
   "metadata": {
    "scrolled": true
   },
   "outputs": [
    {
     "name": "stdout",
     "output_type": "stream",
     "text": [
      "Requirement already satisfied: sklearn in c:\\users\\sbs\\anaconda3\\envs\\tensorflow\\lib\\site-packages (0.0)\n",
      "Requirement already satisfied: scikit-learn in c:\\users\\sbs\\anaconda3\\envs\\tensorflow\\lib\\site-packages (from sklearn) (0.23.2)\n",
      "Requirement already satisfied: scipy>=0.19.1 in c:\\users\\sbs\\anaconda3\\envs\\tensorflow\\lib\\site-packages (from scikit-learn->sklearn) (1.4.1)\n",
      "Requirement already satisfied: threadpoolctl>=2.0.0 in c:\\users\\sbs\\anaconda3\\envs\\tensorflow\\lib\\site-packages (from scikit-learn->sklearn) (2.1.0)\n",
      "Requirement already satisfied: numpy>=1.13.3 in c:\\users\\sbs\\anaconda3\\envs\\tensorflow\\lib\\site-packages (from scikit-learn->sklearn) (1.19.1)\n",
      "Requirement already satisfied: joblib>=0.11 in c:\\users\\sbs\\anaconda3\\envs\\tensorflow\\lib\\site-packages (from scikit-learn->sklearn) (0.17.0)\n",
      "Requirement already satisfied: tensorflow in c:\\users\\sbs\\anaconda3\\envs\\tensorflow\\lib\\site-packages (2.1.0)\n",
      "Requirement already satisfied: keras-preprocessing>=1.1.0 in c:\\users\\sbs\\anaconda3\\envs\\tensorflow\\lib\\site-packages (from tensorflow) (1.1.0)\n",
      "Requirement already satisfied: scipy==1.4.1; python_version >= \"3\" in c:\\users\\sbs\\anaconda3\\envs\\tensorflow\\lib\\site-packages (from tensorflow) (1.4.1)\n",
      "Requirement already satisfied: wheel>=0.26; python_version >= \"3\" in c:\\users\\sbs\\anaconda3\\envs\\tensorflow\\lib\\site-packages (from tensorflow) (0.35.1)\n",
      "Requirement already satisfied: gast==0.2.2 in c:\\users\\sbs\\anaconda3\\envs\\tensorflow\\lib\\site-packages (from tensorflow) (0.2.2)\n",
      "Requirement already satisfied: grpcio>=1.8.6 in c:\\users\\sbs\\anaconda3\\envs\\tensorflow\\lib\\site-packages (from tensorflow) (1.31.0)\n",
      "Requirement already satisfied: google-pasta>=0.1.6 in c:\\users\\sbs\\anaconda3\\envs\\tensorflow\\lib\\site-packages (from tensorflow) (0.2.0)\n",
      "Requirement already satisfied: six>=1.12.0 in c:\\users\\sbs\\anaconda3\\envs\\tensorflow\\lib\\site-packages (from tensorflow) (1.15.0)\n",
      "Requirement already satisfied: astor>=0.6.0 in c:\\users\\sbs\\anaconda3\\envs\\tensorflow\\lib\\site-packages (from tensorflow) (0.8.1)\n",
      "Requirement already satisfied: keras-applications>=1.0.8 in c:\\users\\sbs\\anaconda3\\envs\\tensorflow\\lib\\site-packages (from tensorflow) (1.0.8)\n",
      "Requirement already satisfied: tensorflow-estimator<2.2.0,>=2.1.0rc0 in c:\\users\\sbs\\anaconda3\\envs\\tensorflow\\lib\\site-packages (from tensorflow) (2.1.0)\n",
      "Requirement already satisfied: wrapt>=1.11.1 in c:\\users\\sbs\\anaconda3\\envs\\tensorflow\\lib\\site-packages (from tensorflow) (1.12.1)\n",
      "Requirement already satisfied: termcolor>=1.1.0 in c:\\users\\sbs\\anaconda3\\envs\\tensorflow\\lib\\site-packages (from tensorflow) (1.1.0)\n",
      "Requirement already satisfied: tensorboard<2.2.0,>=2.1.0 in c:\\users\\sbs\\anaconda3\\envs\\tensorflow\\lib\\site-packages (from tensorflow) (2.1.1)\n",
      "Requirement already satisfied: protobuf>=3.8.0 in c:\\users\\sbs\\anaconda3\\envs\\tensorflow\\lib\\site-packages (from tensorflow) (3.13.0)\n",
      "Requirement already satisfied: absl-py>=0.7.0 in c:\\users\\sbs\\anaconda3\\envs\\tensorflow\\lib\\site-packages (from tensorflow) (0.10.0)\n",
      "Requirement already satisfied: numpy<2.0,>=1.16.0 in c:\\users\\sbs\\anaconda3\\envs\\tensorflow\\lib\\site-packages (from tensorflow) (1.19.1)\n",
      "Requirement already satisfied: opt-einsum>=2.3.2 in c:\\users\\sbs\\anaconda3\\envs\\tensorflow\\lib\\site-packages (from tensorflow) (3.1.0)\n",
      "Requirement already satisfied: h5py in c:\\users\\sbs\\anaconda3\\envs\\tensorflow\\lib\\site-packages (from keras-applications>=1.0.8->tensorflow) (2.10.0)\n",
      "Requirement already satisfied: google-auth<2,>=1.6.3 in c:\\users\\sbs\\anaconda3\\envs\\tensorflow\\lib\\site-packages (from tensorboard<2.2.0,>=2.1.0->tensorflow) (1.22.1)\n",
      "Requirement already satisfied: google-auth-oauthlib<0.5,>=0.4.1 in c:\\users\\sbs\\anaconda3\\envs\\tensorflow\\lib\\site-packages (from tensorboard<2.2.0,>=2.1.0->tensorflow) (0.4.1)\n",
      "Requirement already satisfied: requests<3,>=2.21.0 in c:\\users\\sbs\\anaconda3\\envs\\tensorflow\\lib\\site-packages (from tensorboard<2.2.0,>=2.1.0->tensorflow) (2.24.0)\n",
      "Requirement already satisfied: markdown>=2.6.8 in c:\\users\\sbs\\anaconda3\\envs\\tensorflow\\lib\\site-packages (from tensorboard<2.2.0,>=2.1.0->tensorflow) (3.3.1)\n",
      "Requirement already satisfied: setuptools>=41.0.0 in c:\\users\\sbs\\anaconda3\\envs\\tensorflow\\lib\\site-packages (from tensorboard<2.2.0,>=2.1.0->tensorflow) (50.3.0.post20201006)\n",
      "Requirement already satisfied: werkzeug>=0.11.15 in c:\\users\\sbs\\anaconda3\\envs\\tensorflow\\lib\\site-packages (from tensorboard<2.2.0,>=2.1.0->tensorflow) (0.16.1)\n",
      "Requirement already satisfied: pyasn1-modules>=0.2.1 in c:\\users\\sbs\\anaconda3\\envs\\tensorflow\\lib\\site-packages (from google-auth<2,>=1.6.3->tensorboard<2.2.0,>=2.1.0->tensorflow) (0.2.8)\n",
      "Requirement already satisfied: rsa<5,>=3.1.4; python_version >= \"3.5\" in c:\\users\\sbs\\anaconda3\\envs\\tensorflow\\lib\\site-packages (from google-auth<2,>=1.6.3->tensorboard<2.2.0,>=2.1.0->tensorflow) (4.6)\n",
      "Requirement already satisfied: cachetools<5.0,>=2.0.0 in c:\\users\\sbs\\anaconda3\\envs\\tensorflow\\lib\\site-packages (from google-auth<2,>=1.6.3->tensorboard<2.2.0,>=2.1.0->tensorflow) (4.1.1)\n",
      "Requirement already satisfied: requests-oauthlib>=0.7.0 in c:\\users\\sbs\\anaconda3\\envs\\tensorflow\\lib\\site-packages (from google-auth-oauthlib<0.5,>=0.4.1->tensorboard<2.2.0,>=2.1.0->tensorflow) (1.3.0)\n",
      "Requirement already satisfied: certifi>=2017.4.17 in c:\\users\\sbs\\anaconda3\\envs\\tensorflow\\lib\\site-packages (from requests<3,>=2.21.0->tensorboard<2.2.0,>=2.1.0->tensorflow) (2020.11.8)\n",
      "Requirement already satisfied: urllib3!=1.25.0,!=1.25.1,<1.26,>=1.21.1 in c:\\users\\sbs\\anaconda3\\envs\\tensorflow\\lib\\site-packages (from requests<3,>=2.21.0->tensorboard<2.2.0,>=2.1.0->tensorflow) (1.25.10)\n",
      "Requirement already satisfied: chardet<4,>=3.0.2 in c:\\users\\sbs\\anaconda3\\envs\\tensorflow\\lib\\site-packages (from requests<3,>=2.21.0->tensorboard<2.2.0,>=2.1.0->tensorflow) (3.0.4)\n",
      "Requirement already satisfied: idna<3,>=2.5 in c:\\users\\sbs\\anaconda3\\envs\\tensorflow\\lib\\site-packages (from requests<3,>=2.21.0->tensorboard<2.2.0,>=2.1.0->tensorflow) (2.10)\n",
      "Requirement already satisfied: importlib-metadata; python_version < \"3.8\" in c:\\users\\sbs\\anaconda3\\envs\\tensorflow\\lib\\site-packages (from markdown>=2.6.8->tensorboard<2.2.0,>=2.1.0->tensorflow) (2.0.0)\n",
      "Requirement already satisfied: pyasn1<0.5.0,>=0.4.6 in c:\\users\\sbs\\anaconda3\\envs\\tensorflow\\lib\\site-packages (from pyasn1-modules>=0.2.1->google-auth<2,>=1.6.3->tensorboard<2.2.0,>=2.1.0->tensorflow) (0.4.8)\n",
      "Requirement already satisfied: oauthlib>=3.0.0 in c:\\users\\sbs\\anaconda3\\envs\\tensorflow\\lib\\site-packages (from requests-oauthlib>=0.7.0->google-auth-oauthlib<0.5,>=0.4.1->tensorboard<2.2.0,>=2.1.0->tensorflow) (3.1.0)\n",
      "Requirement already satisfied: zipp>=0.5 in c:\\users\\sbs\\anaconda3\\envs\\tensorflow\\lib\\site-packages (from importlib-metadata; python_version < \"3.8\"->markdown>=2.6.8->tensorboard<2.2.0,>=2.1.0->tensorflow) (3.3.0)\n"
     ]
    }
   ],
   "source": [
    "!pip install sklearn\n",
    "!pip install tensorflow"
   ]
  },
  {
   "cell_type": "code",
   "execution_count": 2,
   "metadata": {},
   "outputs": [
    {
     "name": "stdout",
     "output_type": "stream",
     "text": [
      "Train on 42000 samples, validate on 18000 samples\n",
      "Epoch 1/30\n",
      "42000/42000 [==============================] - 11s 261us/sample - loss: 0.6770 - acc: 0.7588 - val_loss: 0.4642 - val_acc: 0.8211\n",
      "Epoch 2/30\n",
      "42000/42000 [==============================] - 11s 250us/sample - loss: 0.4100 - acc: 0.8522 - val_loss: 0.3614 - val_acc: 0.8746\n",
      "Epoch 3/30\n",
      "42000/42000 [==============================] - 11s 251us/sample - loss: 0.3527 - acc: 0.8718 - val_loss: 0.3417 - val_acc: 0.8771\n",
      "Epoch 4/30\n",
      "42000/42000 [==============================] - 11s 255us/sample - loss: 0.3184 - acc: 0.8858 - val_loss: 0.3203 - val_acc: 0.8884\n",
      "Epoch 5/30\n",
      "42000/42000 [==============================] - 11s 254us/sample - loss: 0.2925 - acc: 0.8933 - val_loss: 0.2984 - val_acc: 0.8953\n",
      "Epoch 6/30\n",
      "42000/42000 [==============================] - 11s 252us/sample - loss: 0.2727 - acc: 0.9012 - val_loss: 0.2841 - val_acc: 0.8991\n",
      "Epoch 7/30\n",
      "42000/42000 [==============================] - 11s 254us/sample - loss: 0.2564 - acc: 0.9050 - val_loss: 0.2751 - val_acc: 0.9033\n",
      "Epoch 8/30\n",
      "42000/42000 [==============================] - 11s 255us/sample - loss: 0.2440 - acc: 0.9095 - val_loss: 0.2780 - val_acc: 0.8973\n",
      "Epoch 9/30\n",
      "42000/42000 [==============================] - 11s 254us/sample - loss: 0.2311 - acc: 0.9146 - val_loss: 0.3049 - val_acc: 0.8940\n",
      "Epoch 10/30\n",
      "42000/42000 [==============================] - 11s 255us/sample - loss: 0.2175 - acc: 0.9205 - val_loss: 0.2542 - val_acc: 0.9088\n",
      "Epoch 11/30\n",
      "42000/42000 [==============================] - 11s 256us/sample - loss: 0.2096 - acc: 0.9235 - val_loss: 0.2567 - val_acc: 0.9069\n",
      "Epoch 12/30\n",
      "42000/42000 [==============================] - 11s 255us/sample - loss: 0.1974 - acc: 0.9261 - val_loss: 0.2596 - val_acc: 0.9074\n",
      "Epoch 13/30\n",
      "42000/42000 [==============================] - 11s 255us/sample - loss: 0.1876 - acc: 0.9301 - val_loss: 0.2535 - val_acc: 0.9082\n",
      "Epoch 14/30\n",
      "42000/42000 [==============================] - 11s 256us/sample - loss: 0.1800 - acc: 0.9332 - val_loss: 0.2575 - val_acc: 0.9054\n",
      "Epoch 15/30\n",
      "42000/42000 [==============================] - 11s 256us/sample - loss: 0.1749 - acc: 0.9333 - val_loss: 0.2625 - val_acc: 0.9090\n",
      "Epoch 16/30\n",
      "42000/42000 [==============================] - 11s 255us/sample - loss: 0.1609 - acc: 0.9400 - val_loss: 0.2495 - val_acc: 0.9112\n",
      "Epoch 17/30\n",
      "42000/42000 [==============================] - 11s 256us/sample - loss: 0.1513 - acc: 0.9436 - val_loss: 0.2618 - val_acc: 0.9108\n",
      "Epoch 18/30\n",
      "42000/42000 [==============================] - 11s 256us/sample - loss: 0.1427 - acc: 0.9465 - val_loss: 0.2678 - val_acc: 0.9098\n",
      "Epoch 19/30\n",
      "42000/42000 [==============================] - 11s 256us/sample - loss: 0.1363 - acc: 0.9489 - val_loss: 0.2901 - val_acc: 0.9062\n",
      "Epoch 20/30\n",
      "42000/42000 [==============================] - 11s 257us/sample - loss: 0.1292 - acc: 0.9521 - val_loss: 0.2853 - val_acc: 0.9066\n",
      "Epoch 21/30\n",
      "42000/42000 [==============================] - 11s 256us/sample - loss: 0.1208 - acc: 0.9558 - val_loss: 0.2645 - val_acc: 0.9123\n",
      "Epoch 22/30\n",
      "42000/42000 [==============================] - 11s 255us/sample - loss: 0.1163 - acc: 0.9572 - val_loss: 0.2988 - val_acc: 0.9040\n",
      "Epoch 23/30\n",
      "42000/42000 [==============================] - 11s 256us/sample - loss: 0.1117 - acc: 0.9586 - val_loss: 0.2735 - val_acc: 0.9153\n",
      "Epoch 24/30\n",
      "42000/42000 [==============================] - 11s 255us/sample - loss: 0.1020 - acc: 0.9624 - val_loss: 0.2822 - val_acc: 0.9136\n",
      "Epoch 25/30\n",
      "42000/42000 [==============================] - 11s 255us/sample - loss: 0.0981 - acc: 0.9633 - val_loss: 0.3037 - val_acc: 0.9077\n",
      "Epoch 26/30\n",
      "42000/42000 [==============================] - 11s 255us/sample - loss: 0.0891 - acc: 0.9670 - val_loss: 0.3085 - val_acc: 0.9077\n",
      "Epoch 27/30\n",
      "42000/42000 [==============================] - 11s 255us/sample - loss: 0.0801 - acc: 0.9711 - val_loss: 0.3381 - val_acc: 0.9096\n",
      "Epoch 28/30\n",
      "42000/42000 [==============================] - 11s 253us/sample - loss: 0.0771 - acc: 0.9719 - val_loss: 0.3308 - val_acc: 0.9062\n",
      "Epoch 29/30\n",
      "42000/42000 [==============================] - 11s 252us/sample - loss: 0.0712 - acc: 0.9737 - val_loss: 0.3506 - val_acc: 0.9095\n",
      "Epoch 30/30\n",
      "42000/42000 [==============================] - 11s 253us/sample - loss: 0.0650 - acc: 0.9765 - val_loss: 0.3460 - val_acc: 0.9096\n"
     ]
    },
    {
     "data": {
      "text/plain": [
       "<tensorflow.python.keras.callbacks.History at 0x1cad81c6d48>"
      ]
     },
     "execution_count": 2,
     "metadata": {},
     "output_type": "execute_result"
    }
   ],
   "source": [
    "# fashion_mnist\n",
    "# 데이터 추출을 하는데\n",
    "# Conv2D, MaxPool2D, Flatten, Dense\n",
    "from tensorflow.keras.datasets import fashion_mnist\n",
    "(x_train, t_train), (x_test, t_test) = fashion_mnist.load_data()\n",
    "\n",
    "import matplotlib.pyplot as plt\n",
    "import numpy as np\n",
    "np.random.seed(777)\n",
    "\n",
    "class_names = ['T-shirt/top', 'Trouser', 'Pullover', 'Dress', 'Coat',\n",
    "              'Sandal', 'Shirt', 'Sneaker', 'Bag', 'Ankle boot']\n",
    "\n",
    "sample_size = 9\n",
    "\n",
    "random_idx = np.random.randint(60000, size=sample_size)\n",
    "\n",
    "x_train = np.reshape(x_train / 255, (-1, 28, 28, 1))\n",
    "x_test = np.reshape(x_test / 255, (-1, 28, 28, 1))\n",
    "\n",
    "from tensorflow.keras.utils import to_categorical\n",
    "\n",
    "t_train = to_categorical(t_train)\n",
    "t_test = to_categorical(t_test)\n",
    "\n",
    "from sklearn.model_selection import train_test_split\n",
    "\n",
    "x_train, x_val, t_train, t_val = train_test_split(x_train, t_train,\n",
    "                                                 test_size = 0.3,\n",
    "                                                 random_state=777)\n",
    "\n",
    "from tensorflow.keras.models import Sequential\n",
    "from tensorflow.keras.layers import Conv2D, MaxPool2D, Dense, Flatten\n",
    "\n",
    "model = Sequential([\n",
    "    Conv2D(filters=16, kernel_size=3, padding='same',\n",
    "          activation='relu', input_shape=(28, 28, 1)),\n",
    "    MaxPool2D(pool_size=(2, 2), strides=2, padding='same'),\n",
    "    Conv2D(filters=32, kernel_size=3, padding='same', activation='relu'),\n",
    "    MaxPool2D(pool_size=(2, 2), strides=2, padding='same'),\n",
    "    Conv2D(filters=64, kernel_size=3, padding='same', activation='relu'),\n",
    "    MaxPool2D(pool_size=(2, 2), strides=2, padding='same'),\n",
    "    Flatten(),\n",
    "    Dense(64, activation='relu'),\n",
    "    Dense(10, activation='softmax')\n",
    "    \n",
    "])\n",
    "\n",
    "\n",
    "model.compile(optimizer='adam', loss='categorical_crossentropy', metrics=['acc'])\n",
    "model.fit(x_train, t_train, epochs=30, batch_size=128, validation_data=(x_val, t_val))"
   ]
  },
  {
   "cell_type": "code",
   "execution_count": 3,
   "metadata": {},
   "outputs": [
    {
     "name": "stdout",
     "output_type": "stream",
     "text": [
      "Requirement already satisfied: opencv-python in c:\\users\\sbs\\anaconda3\\envs\\tensorflow\\lib\\site-packages (4.4.0.46)\n",
      "Requirement already satisfied: numpy>=1.14.5 in c:\\users\\sbs\\anaconda3\\envs\\tensorflow\\lib\\site-packages (from opencv-python) (1.19.1)\n"
     ]
    }
   ],
   "source": [
    "!pip install opencv-python"
   ]
  },
  {
   "cell_type": "code",
   "execution_count": 4,
   "metadata": {},
   "outputs": [
    {
     "name": "stdout",
     "output_type": "stream",
     "text": [
      "output의 크기: 25\n"
     ]
    },
    {
     "data": {
      "image/png": "[encoded data removed]",
      "text/plain": [
       "<Figure size 432x288 with 1 Axes>"
      ]
     },
     "metadata": {
      "needs_background": "light"
     },
     "output_type": "display_data"
    }
   ],
   "source": [
    "\n",
    "import cv2\n",
    "# model.add(Dense(128, activation='relu'), input_shape=(784,))\n",
    "# ->파라미터의 수 : 100,480개. 128개의 은닉층\n",
    "\n",
    "#model.add(Conv2D(filters=1000, kernel_size=3,padding='same',\n",
    "#          activation='relu', input_shape=(28, 28, 1)))\n",
    "\n",
    "# -> 파라미터수 : 1280개, 1000개의 합성곱 필터\n",
    "plt.imshow(x_train[0])\n",
    "\n",
    "horizontal_filter = np.array([[1., 2., 1.],\n",
    "                            [0., 0., 0.],\n",
    "                            [-1., -2., -1.]])\n",
    "\n",
    "vertical_filter = np.array([[1., 0., -1.],\n",
    "                          [2., 0., 2.],\n",
    "                          [1., 0., -1.]])\n",
    "\n",
    "test_image = cv2.resize(x_train[0], (27, 27))\n",
    "image_size = test_image.shape[0]\n",
    "output_size = int((image_size - 3) / 1 + 1)\n",
    "print('output의 크기: %d' % output_size)\n"
   ]
  },
  {
   "cell_type": "code",
   "execution_count": null,
   "metadata": {},
   "outputs": [],
   "source": []
  }
 ],
 "metadata": {
  "kernelspec": {
   "display_name": "Python 3",
   "language": "python",
   "name": "python3"
  },
  "language_info": {
   "codemirror_mode": {
    "name": "ipython",
    "version": 3
   },
   "file_extension": ".py",
   "mimetype": "text/x-python",
   "name": "python",
   "nbconvert_exporter": "python",
   "pygments_lexer": "ipython3",
   "version": "3.7.9"
  }
 },
 "nbformat": 4,
 "nbformat_minor": 4
}
