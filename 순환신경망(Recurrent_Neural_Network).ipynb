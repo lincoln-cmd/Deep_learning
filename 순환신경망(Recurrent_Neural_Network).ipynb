{
 "cells": [
  {
   "cell_type": "code",
   "execution_count": 1,
   "metadata": {},
   "outputs": [],
   "source": [
    "# Embedding\n",
    "# 수많은 데이터, 벡터 형태로 표현할 수 있다. 텍스트 분류를 위해 사용하기 가장 기본에 해당하는 층\n",
    "# 사전학습된 가중치를 불러와서 사용할 수 있습니다.\n",
    "\n",
    "# 원리?\n",
    "# 토큰 : 문법적으로 더 이상 나눌 수 없는 언어 요소\n",
    "# 토큰화. 정의된 토큰에 고유 인덱스를 부여한 뒤 인코딩을 통해서 적절한 형태로 바꿔주는 전처리 작업 과정을 거친다.\n",
    "# 원-핫 인코딩(One hot encoding). 이진 인코딩. 텍스트 데이터를 사용하는 경우 기본적으로 embedding층\n",
    "# 워드 임베딩이라고 한다.\n",
    "\n"
   ]
  },
  {
   "cell_type": "code",
   "execution_count": 10,
   "metadata": {},
   "outputs": [
    {
     "name": "stdout",
     "output_type": "stream",
     "text": [
      "{'<OOV>': 1, 'you': 2, 'are': 3, 'the': 4, 'best': 5, 'nice': 6}\n",
      "-------------------\n",
      "sequences [[2, 3, 4, 5], [2, 3, 4, 6]]\n",
      "\n",
      "binary_vector : \n",
      " [[0. 0. 1. 1. 1. 1. 0. 0. 0. 0.]\n",
      " [0. 0. 1. 1. 1. 0. 1. 0. 0. 0.]]\n",
      "\n",
      "[[[0. 0. 1. 0. 0. 0. 0.]\n",
      "  [0. 0. 0. 1. 0. 0. 0.]\n",
      "  [0. 0. 0. 0. 1. 0. 0.]\n",
      "  [0. 0. 0. 0. 0. 1. 0.]]\n",
      "\n",
      " [[0. 0. 1. 0. 0. 0. 0.]\n",
      "  [0. 0. 0. 1. 0. 0. 0.]\n",
      "  [0. 0. 0. 0. 1. 0. 0.]\n",
      "  [0. 0. 0. 0. 0. 0. 1.]]]\n",
      "test sequences : [[2, 3, 4, 1]]\n"
     ]
    }
   ],
   "source": [
    "from tensorflow.keras.preprocessing.text import Tokenizer\n",
    "from tensorflow.keras.utils import to_categorical\n",
    "\n",
    "texts = ['You are the Best',\n",
    "        'You are the Nice']\n",
    "# oov_token : 인자로 전달된 개체로 단어를 대체한다.\n",
    "tokenizer = Tokenizer(num_words = 10, oov_token = '<OOV>') # num_words : 최대 단어 갯수, oov : out of vocablary : 들어온 인자가 없을 때 ovv로 대체\n",
    "tokenizer.fit_on_texts(texts)\n",
    "\n",
    "# 텍스트 데이터를 정수 인덱스 형태로 반환합니다.\n",
    "# texts_to_sequences(text) : 토큰화를 통해 각 토큰에 부여된 인덱스를 활용해서 주어진 문장에 존재하는 단어를 인덱스로 반환한다.\n",
    "sequences = tokenizer.texts_to_sequences(texts)\n",
    "\n",
    "# 이진 형태로 인코딩합니다.\n",
    "# sequences_to_materix : 이진 형태로 인코딩된 결과를 얻을 수 있다.\n",
    "binary_results = tokenizer.sequences_to_matrix(sequences, mode = 'binary')\n",
    "\n",
    "print(tokenizer.word_index)\n",
    "print('-------------------')\n",
    "\n",
    "print(f'sequences {sequences}\\n')\n",
    "print(f'binary_vector : \\n {binary_results}\\n')\n",
    "\n",
    "# 원 핫 형태로 이코딩\n",
    "# 원-핫 형태로 인코딩한 결과를 얻게된다.\n",
    "# 벡터를 희소행렬이라고 한다.\n",
    "# 희소행렬이란? : 존재하는 단어의 인덱스를 제외하고 전부 0으로 표현합니다.\n",
    "# 희소행렬은 고차원에 해당하며, 단어의 유사성을 푠현할 수 있습니다.\n",
    "# 학습에 부정적인 영향을 끼치는 행렬의 고차원은 불필요한 계산이 추가됩니다.\n",
    "# 차원의 저주(Curse of dimensionality) : - 수학적 공간 차원(=변수 개수)이 늘어나면서, 문제 계산법이 지수적으로 커지는 상황\n",
    "# - 차원이 높아질수록 데이터 사이의 거리가 멀어지고, 빈공간이 증가하는 공간의 성김 현상(Sparsity)을 보임\n",
    "print(to_categorical(sequences))\n",
    "\n",
    "# 밀집행렬 : embading층이 밀집행렬이다.\n",
    "# 각 단어의 관계를 실수로 표현한다. 저차원에 해당합니다. 행렬이 속해있는 각 실수값은 0과 1로 직접 지정해주는 희소행렬과 다르게 데이터를 기반으로 조정합니다.\n",
    "# 학습이 적절하게 진행되었다면 유사한 의미를 가지는 단어는 비슷한 공간이 표현된다.\n",
    "\n",
    "test_text = ['You are the One'] # One이 없어서 인자값인 OOV인 1로 들어감 -> test sequences = [[2, 3, 4, 1]]에서 1\n",
    "test_seq = tokenizer.texts_to_sequences(test_text)\n",
    "\n",
    "print(f'test sequences : {test_seq}')"
   ]
  },
  {
   "cell_type": "code",
   "execution_count": 27,
   "metadata": {},
   "outputs": [
    {
     "name": "stdout",
     "output_type": "stream",
     "text": [
      "(25000,) (25000,)\n"
     ]
    }
   ],
   "source": [
    "from tensorflow.keras.datasets import imdb\n",
    "\n",
    "num_words = 10000\n",
    "(x_train, y_train), (x_test, y_test) = imdb.load_data(num_words = num_words)\n",
    "print(x_train.shape, y_train.shape)"
   ]
  },
  {
   "cell_type": "code",
   "execution_count": 28,
   "metadata": {},
   "outputs": [
    {
     "name": "stdout",
     "output_type": "stream",
     "text": [
      "[1, 14, 22, 16, 43, 530, 973, 1622, 1385, 65, 458, 4468, 66, 3941, 4, 173, 36, 256, 5, 25, 100, 43, 838, 112, 50, 670, 2, 9, 35, 480, 284, 5, 150, 4, 172, 112, 167, 2, 336, 385, 39, 4, 172, 4536, 1111, 17, 546, 38, 13, 447, 4, 192, 50, 16, 6, 147, 2025, 19, 14, 22, 4, 1920, 4613, 469, 4, 22, 71, 87, 12, 16, 43, 530, 38, 76, 15, 13, 1247, 4, 22, 17, 515, 17, 12, 16, 626, 18, 2, 5, 62, 386, 12, 8, 316, 8, 106, 5, 4, 2223, 5244, 16, 480, 66, 3785, 33, 4, 130, 12, 16, 38, 619, 5, 25, 124, 51, 36, 135, 48, 25, 1415, 33, 6, 22, 12, 215, 28, 77, 52, 5, 14, 407, 16, 82, 2, 8, 4, 107, 117, 5952, 15, 256, 4, 2, 7, 3766, 5, 723, 36, 71, 43, 530, 476, 26, 400, 317, 46, 7, 4, 2, 1029, 13, 104, 88, 4, 381, 15, 297, 98, 32, 2071, 56, 26, 141, 6, 194, 7486, 18, 4, 226, 22, 21, 134, 476, 26, 480, 5, 144, 30, 5535, 18, 51, 36, 28, 224, 92, 25, 104, 4, 226, 65, 16, 38, 1334, 88, 12, 16, 283, 5, 16, 4472, 113, 103, 32, 15, 16, 5345, 19, 178, 32]\n",
      "===========================================================================\n",
      "1\n"
     ]
    }
   ],
   "source": [
    "# 전저리 과정이 수행된 첫번째 데이터, 레이블\n",
    "print(x_train[0])\n",
    "print('===========================================================================')\n",
    "print(y_train[0])"
   ]
  },
  {
   "cell_type": "code",
   "execution_count": 29,
   "metadata": {
    "scrolled": true
   },
   "outputs": [
    {
     "name": "stdout",
     "output_type": "stream",
     "text": [
      "1번째로 가장 많이 쓰인 단어 : the\n",
      "2번째로 가장 많이 쓰인 단어 : and\n",
      "3번째로 가장 많이 쓰인 단어 : a\n"
     ]
    }
   ],
   "source": [
    "imdb_get_word_index = {}\n",
    "\n",
    "for key, value in imdb.get_word_index().items():\n",
    "    imdb_get_word_index[value] = key\n",
    "    \n",
    "for i in range(1, 4):\n",
    "    print('{}번째로 가장 많이 쓰인 단어 : {}'.format(i, imdb_get_word_index[i]))"
   ]
  },
  {
   "cell_type": "code",
   "execution_count": 38,
   "metadata": {},
   "outputs": [
    {
     "name": "stdout",
     "output_type": "stream",
     "text": [
      "before pad_sequences :  218\n",
      "after pad_sequences :  500\n",
      "[[   0    0    0 ...   19  178   32]\n",
      " [   0    0    0 ...   16  145   95]\n",
      " [   0    0    0 ...    7  129  113]\n",
      " ...\n",
      " [   0    0    0 ...    4 3586    2]\n",
      " [   0    0    0 ...   12    9   23]\n",
      " [   0    0    0 ...  204  131    9]]\n",
      "before pad_sequences :  218\n",
      "after pad_sequences :  500\n",
      "[[   1   14   22 ...    0    0    0]\n",
      " [   1  194 1153 ...    0    0    0]\n",
      " [   1   14   47 ...    0    0    0]\n",
      " ...\n",
      " [   1   11    6 ...    0    0    0]\n",
      " [   1 1446 7079 ...    0    0    0]\n",
      " [   1   17    6 ...    0    0    0]]\n"
     ]
    }
   ],
   "source": [
    "# 시퀀스 데이터의 길이가 전부 동일해야 됩니다.\n",
    "# pad_sequences()라는 함수를 사용한다.\n",
    "# 이 함수는 해당 데이터가 지정한 길이보다 짫은 경우 0을 넣고, 긴 경우 잘라내는 역할을 합니다.\n",
    "from tensorflow.keras.preprocessing.sequence import pad_sequences\n",
    "\n",
    "\n",
    "max_len = 500\n",
    "\n",
    "print('before pad_sequences : ', len(x_train[0]))\n",
    "\n",
    "pad_x_train = pad_sequences(x_train, maxlen = max_len, padding = 'pre')\n",
    "pad_x_test = pad_sequences(x_test, maxlen = max_len, padding = 'pre')\n",
    "\n",
    "print('after pad_sequences : ', len(pad_x_train[0]))\n",
    "\n",
    "print(pad_x_train)\n",
    "\n",
    "print('before pad_sequences : ', len(x_train[0]))\n",
    "\n",
    "pad_x_train = pad_sequences(x_train, maxlen = max_len, padding = 'post')\n",
    "pad_x_test = pad_sequences(x_test, maxlen = max_len, padding = 'post')\n",
    "\n",
    "print('after pad_sequences : ', len(pad_x_train[0]))\n",
    "\n",
    "print(pad_x_train)"
   ]
  },
  {
   "cell_type": "code",
   "execution_count": 36,
   "metadata": {},
   "outputs": [
    {
     "name": "stdout",
     "output_type": "stream",
     "text": [
      "Model: \"sequential_3\"\n",
      "_________________________________________________________________\n",
      "Layer (type)                 Output Shape              Param #   \n",
      "=================================================================\n",
      "embedding_3 (Embedding)      (None, 500, 32)           320000    \n",
      "_________________________________________________________________\n",
      "flatten_1 (Flatten)          (None, 16000)             0         \n",
      "_________________________________________________________________\n",
      "dense_2 (Dense)              (None, 1)                 16001     \n",
      "=================================================================\n",
      "Total params: 336,001\n",
      "Trainable params: 336,001\n",
      "Non-trainable params: 0\n",
      "_________________________________________________________________\n"
     ]
    }
   ],
   "source": [
    "from tensorflow.keras.models import Sequential\n",
    "from tensorflow.keras.layers import Dense, Flatten, Embedding\n",
    "\n",
    "model = Sequential()\n",
    "# 이 층은 모델의 제일 첫번째 층으로만 사용할 수 있다.\n",
    "# Flatten층을 사용하기 위해서 input_length가 전달 된다.\n",
    "model.add(Embedding(input_dim = num_words, output_dim = 32,\n",
    "                   input_length = max_len)) # 순환연결층의 기초에서는 이 변수들만 들어감.\n",
    "model.add(Flatten())\n",
    "model.add(Dense(1, activation = 'sigmoid'))\n",
    "\n",
    "model.compile(optimizer = 'adam', loss = 'binary_crossentropy', metrics = ['acc'])\n",
    "\n",
    "model.summary()"
   ]
  },
  {
   "cell_type": "code",
   "execution_count": 37,
   "metadata": {},
   "outputs": [
    {
     "name": "stdout",
     "output_type": "stream",
     "text": [
      "Train on 20000 samples, validate on 5000 samples\n",
      "Epoch 1/32\n",
      "20000/20000 [==============================] - 4s 197us/sample - loss: 0.4645 - acc: 0.7738 - val_loss: 0.2951 - val_acc: 0.8782\n",
      "Epoch 2/32\n",
      "20000/20000 [==============================] - 4s 180us/sample - loss: 0.2019 - acc: 0.9261 - val_loss: 0.2769 - val_acc: 0.8854\n",
      "Epoch 3/32\n",
      "20000/20000 [==============================] - 4s 181us/sample - loss: 0.1076 - acc: 0.9698 - val_loss: 0.2845 - val_acc: 0.8868\n",
      "Epoch 4/32\n",
      "20000/20000 [==============================] - 4s 182us/sample - loss: 0.0517 - acc: 0.9907 - val_loss: 0.3118 - val_acc: 0.8828\n",
      "Epoch 5/32\n",
      "20000/20000 [==============================] - 4s 183us/sample - loss: 0.0241 - acc: 0.9976 - val_loss: 0.3313 - val_acc: 0.8810\n",
      "Epoch 6/32\n",
      "20000/20000 [==============================] - 4s 181us/sample - loss: 0.0117 - acc: 0.9995 - val_loss: 0.3622 - val_acc: 0.8794\n",
      "Epoch 7/32\n",
      "20000/20000 [==============================] - 4s 179us/sample - loss: 0.0064 - acc: 0.9998 - val_loss: 0.3876 - val_acc: 0.8794\n",
      "Epoch 8/32\n",
      "20000/20000 [==============================] - 4s 182us/sample - loss: 0.0037 - acc: 0.9999 - val_loss: 0.3980 - val_acc: 0.8808\n",
      "Epoch 9/32\n",
      "20000/20000 [==============================] - 4s 184us/sample - loss: 0.0023 - acc: 1.0000 - val_loss: 0.4176 - val_acc: 0.8780\n",
      "Epoch 10/32\n",
      "20000/20000 [==============================] - 4s 184us/sample - loss: 0.0014 - acc: 1.0000 - val_loss: 0.4380 - val_acc: 0.8786\n",
      "Epoch 11/32\n",
      "20000/20000 [==============================] - 4s 183us/sample - loss: 9.5488e-04 - acc: 1.0000 - val_loss: 0.4559 - val_acc: 0.8786\n",
      "Epoch 12/32\n",
      "20000/20000 [==============================] - 4s 184us/sample - loss: 6.2720e-04 - acc: 1.0000 - val_loss: 0.4759 - val_acc: 0.8788\n",
      "Epoch 13/32\n",
      "20000/20000 [==============================] - 4s 184us/sample - loss: 4.1558e-04 - acc: 1.0000 - val_loss: 0.4934 - val_acc: 0.8782\n",
      "Epoch 14/32\n",
      "20000/20000 [==============================] - 4s 186us/sample - loss: 2.9256e-04 - acc: 1.0000 - val_loss: 0.5111 - val_acc: 0.8770\n",
      "Epoch 15/32\n",
      "20000/20000 [==============================] - 4s 181us/sample - loss: 1.9722e-04 - acc: 1.0000 - val_loss: 0.5294 - val_acc: 0.8768\n",
      "Epoch 16/32\n",
      "20000/20000 [==============================] - 4s 181us/sample - loss: 1.3716e-04 - acc: 1.0000 - val_loss: 0.5476 - val_acc: 0.8778\n",
      "Epoch 17/32\n",
      "20000/20000 [==============================] - 4s 180us/sample - loss: 9.4175e-05 - acc: 1.0000 - val_loss: 0.5631 - val_acc: 0.8772\n",
      "Epoch 18/32\n",
      "20000/20000 [==============================] - 4s 183us/sample - loss: 6.5975e-05 - acc: 1.0000 - val_loss: 0.5816 - val_acc: 0.8762\n",
      "Epoch 19/32\n",
      "20000/20000 [==============================] - 4s 181us/sample - loss: 4.6495e-05 - acc: 1.0000 - val_loss: 0.5986 - val_acc: 0.8756\n",
      "Epoch 20/32\n",
      "20000/20000 [==============================] - 4s 181us/sample - loss: 3.2589e-05 - acc: 1.0000 - val_loss: 0.6166 - val_acc: 0.8750\n",
      "Epoch 21/32\n",
      "20000/20000 [==============================] - 4s 181us/sample - loss: 2.3264e-05 - acc: 1.0000 - val_loss: 0.6339 - val_acc: 0.8756\n",
      "Epoch 22/32\n",
      "20000/20000 [==============================] - 4s 180us/sample - loss: 1.6244e-05 - acc: 1.0000 - val_loss: 0.6514 - val_acc: 0.8750\n",
      "Epoch 23/32\n",
      "20000/20000 [==============================] - 4s 186us/sample - loss: 1.1657e-05 - acc: 1.0000 - val_loss: 0.6695 - val_acc: 0.8764\n",
      "Epoch 24/32\n",
      "20000/20000 [==============================] - 4s 183us/sample - loss: 8.3210e-06 - acc: 1.0000 - val_loss: 0.6872 - val_acc: 0.8758\n",
      "Epoch 25/32\n",
      "20000/20000 [==============================] - 4s 182us/sample - loss: 5.9726e-06 - acc: 1.0000 - val_loss: 0.7044 - val_acc: 0.8758\n",
      "Epoch 26/32\n",
      "20000/20000 [==============================] - 4s 181us/sample - loss: 4.3069e-06 - acc: 1.0000 - val_loss: 0.7176 - val_acc: 0.8754\n",
      "Epoch 27/32\n",
      "20000/20000 [==============================] - 4s 185us/sample - loss: 3.0999e-06 - acc: 1.0000 - val_loss: 0.7337 - val_acc: 0.8752\n",
      "Epoch 28/32\n",
      "20000/20000 [==============================] - 4s 182us/sample - loss: 2.2705e-06 - acc: 1.0000 - val_loss: 0.7509 - val_acc: 0.8758\n",
      "Epoch 29/32\n",
      "20000/20000 [==============================] - 4s 183us/sample - loss: 1.6680e-06 - acc: 1.0000 - val_loss: 0.7653 - val_acc: 0.8754\n",
      "Epoch 30/32\n",
      "20000/20000 [==============================] - 4s 181us/sample - loss: 1.2552e-06 - acc: 1.0000 - val_loss: 0.7806 - val_acc: 0.8744\n",
      "Epoch 31/32\n",
      "20000/20000 [==============================] - 4s 183us/sample - loss: 9.2753e-07 - acc: 1.0000 - val_loss: 0.7969 - val_acc: 0.8746\n",
      "Epoch 32/32\n",
      "20000/20000 [==============================] - 4s 183us/sample - loss: 7.0340e-07 - acc: 1.0000 - val_loss: 0.8118 - val_acc: 0.8748\n"
     ]
    }
   ],
   "source": [
    "history = model.fit(pad_x_train, y_train, batch_size = 32, epochs = 32, validation_split = 0.2)"
   ]
  },
  {
   "cell_type": "code",
   "execution_count": 42,
   "metadata": {},
   "outputs": [
    {
     "data": {
      "image/png": "[encoded data removed]",
      "text/plain": [
       "<Figure size 720x360 with 2 Axes>"
      ]
     },
     "metadata": {
      "needs_background": "light"
     },
     "output_type": "display_data"
    }
   ],
   "source": [
    "import matplotlib.pyplot as plt\n",
    "\n",
    "his_dict = history.history\n",
    "loss = his_dic['loss']\n",
    "val_loss = his_dict['val_loss']\n",
    "\n",
    "epochs = range(1, len(loss) + 1)\n",
    "fig = plt.figure(figsize = (10, 5))\n",
    "\n",
    "# 학습 및 검증 손실 그리기\n",
    "ax1 = fig.add_subplot(1, 2, 1)\n",
    "ax1.plot(epochs, loss, color = 'blue', label = 'train_loss')\n",
    "ax1.plot(epochs, val_loss, color = 'orange', label = 'val_loss')\n",
    "ax1.set_title('train and val loss')\n",
    "ax1.set_xlabel('epochs')\n",
    "ax1.set_ylabel('loss')\n",
    "ax1.legend()\n",
    "\n",
    "acc = his_dic['acc']\n",
    "val_acc = his_dic['val_acc']\n",
    "\n",
    "ax1 = fig.add_subplot(1, 2, 2)\n",
    "ax1.plot(epochs, acc, color = 'blue', label = 'train_acc')\n",
    "ax1.plot(epochs, val_acc, color = 'orange', label = 'val_acc')\n",
    "ax1.set_title('train and val loss')\n",
    "ax1.set_xlabel('epochs')\n",
    "ax1.set_ylabel('loss')\n",
    "ax1.legend()\n",
    "\n",
    "plt.show()"
   ]
  },
  {
   "cell_type": "code",
   "execution_count": 39,
   "metadata": {},
   "outputs": [
    {
     "name": "stdout",
     "output_type": "stream",
     "text": [
      "25000/25000 [==============================] - 1s 36us/sample - loss: 0.9603 - acc: 0.6603\n"
     ]
    },
    {
     "data": {
      "text/plain": [
       "[0.960291168179512, 0.66032]"
      ]
     },
     "execution_count": 39,
     "metadata": {},
     "output_type": "execute_result"
    }
   ],
   "source": [
    "model.evaluate(pad_x_test, y_test)\n"
   ]
  },
  {
   "cell_type": "code",
   "execution_count": null,
   "metadata": {},
   "outputs": [],
   "source": []
  }
 ],
 "metadata": {
  "kernelspec": {
   "display_name": "Python 3",
   "language": "python",
   "name": "python3"
  },
  "language_info": {
   "codemirror_mode": {
    "name": "ipython",
    "version": 3
   },
   "file_extension": ".py",
   "mimetype": "text/x-python",
   "name": "python",
   "nbconvert_exporter": "python",
   "pygments_lexer": "ipython3",
   "version": "3.7.9"
  }
 },
 "nbformat": 4,
 "nbformat_minor": 4
}
