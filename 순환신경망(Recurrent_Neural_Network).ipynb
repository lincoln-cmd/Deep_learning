{
 "cells": [
  {
   "cell_type": "code",
   "execution_count": 1,
   "metadata": {},
   "outputs": [],
   "source": [
    "# Embedding\n",
    "# 수많은 데이터, 벡터 형태로 표현할 수 있다. 텍스트 분류를 위해 사용하기 가장 기본에 해당하는 층\n",
    "# 사전학습된 가중치를 불러와서 사용할 수 있습니다.\n",
    "\n",
    "# 원리?\n",
    "# 토큰 : 문법적으로 더 이상 나눌 수 없는 언어 요소\n",
    "# 토큰화. 정의된 토큰에 고유 인덱스를 부여한 뒤 인코딩을 통해서 적절한 형태로 바꿔주는 전처리 작업 과정을 거친다.\n",
    "# 원-핫 인코딩(One hot encoding). 이진 인코딩. 텍스트 데이터를 사용하는 경우 기본적으로 embedding층\n",
    "# 워드 임베딩이라고 한다.\n",
    "\n"
   ]
  },
  {
   "cell_type": "code",
   "execution_count": 2,
   "metadata": {},
   "outputs": [
    {
     "name": "stdout",
     "output_type": "stream",
     "text": [
      "{'<OOV>': 1, 'you': 2, 'are': 3, 'the': 4, 'best': 5, 'nice': 6}\n",
      "-------------------\n",
      "sequences [[2, 3, 4, 5], [2, 3, 4, 6]]\n",
      "\n",
      "binary_vector : \n",
      " [[0. 0. 1. 1. 1. 1. 0. 0. 0. 0.]\n",
      " [0. 0. 1. 1. 1. 0. 1. 0. 0. 0.]]\n",
      "\n",
      "[[[0. 0. 1. 0. 0. 0. 0.]\n",
      "  [0. 0. 0. 1. 0. 0. 0.]\n",
      "  [0. 0. 0. 0. 1. 0. 0.]\n",
      "  [0. 0. 0. 0. 0. 1. 0.]]\n",
      "\n",
      " [[0. 0. 1. 0. 0. 0. 0.]\n",
      "  [0. 0. 0. 1. 0. 0. 0.]\n",
      "  [0. 0. 0. 0. 1. 0. 0.]\n",
      "  [0. 0. 0. 0. 0. 0. 1.]]]\n",
      "test sequences : [[2, 3, 4, 1]]\n"
     ]
    }
   ],
   "source": [
    "from tensorflow.keras.preprocessing.text import Tokenizer\n",
    "from tensorflow.keras.utils import to_categorical\n",
    "\n",
    "texts = ['You are the Best',\n",
    "        'You are the Nice']\n",
    "# oov_token : 인자로 전달된 개체로 단어를 대체한다.\n",
    "tokenizer = Tokenizer(num_words = 10, oov_token = '<OOV>') # num_words : 최대 단어 갯수, oov : out of vocablary : 들어온 인자가 없을 때 ovv로 대체\n",
    "tokenizer.fit_on_texts(texts)\n",
    "\n",
    "# 텍스트 데이터를 정수 인덱스 형태로 반환합니다.\n",
    "# texts_to_sequences(text) : 토큰화를 통해 각 토큰에 부여된 인덱스를 활용해서 주어진 문장에 존재하는 단어를 인덱스로 반환한다.\n",
    "sequences = tokenizer.texts_to_sequences(texts)\n",
    "\n",
    "# 이진 형태로 인코딩합니다.\n",
    "# sequences_to_materix : 이진 형태로 인코딩된 결과를 얻을 수 있다.\n",
    "binary_results = tokenizer.sequences_to_matrix(sequences, mode = 'binary')\n",
    "\n",
    "print(tokenizer.word_index)\n",
    "print('-------------------')\n",
    "\n",
    "print(f'sequences {sequences}\\n')\n",
    "print(f'binary_vector : \\n {binary_results}\\n')\n",
    "\n",
    "# 원 핫 형태로 이코딩\n",
    "# 원-핫 형태로 인코딩한 결과를 얻게된다.\n",
    "# 벡터를 희소행렬이라고 한다.\n",
    "# 희소행렬이란? : 존재하는 단어의 인덱스를 제외하고 전부 0으로 표현합니다.\n",
    "# 희소행렬은 고차원에 해당하며, 단어의 유사성을 푠현할 수 있습니다.\n",
    "# 학습에 부정적인 영향을 끼치는 행렬의 고차원은 불필요한 계산이 추가됩니다.\n",
    "# 차원의 저주(Curse of dimensionality) : - 수학적 공간 차원(=변수 개수)이 늘어나면서, 문제 계산법이 지수적으로 커지는 상황\n",
    "# - 차원이 높아질수록 데이터 사이의 거리가 멀어지고, 빈공간이 증가하는 공간의 성김 현상(Sparsity)을 보임\n",
    "print(to_categorical(sequences))\n",
    "\n",
    "# 밀집행렬 : embading층이 밀집행렬이다.\n",
    "# 각 단어의 관계를 실수로 표현한다. 저차원에 해당합니다. 행렬이 속해있는 각 실수값은 0과 1로 직접 지정해주는 희소행렬과 다르게 데이터를 기반으로 조정합니다.\n",
    "# 학습이 적절하게 진행되었다면 유사한 의미를 가지는 단어는 비슷한 공간이 표현된다.\n",
    "\n",
    "test_text = ['You are the One'] # One이 없어서 인자값인 OOV인 1로 들어감 -> test sequences = [[2, 3, 4, 1]]에서 1\n",
    "test_seq = tokenizer.texts_to_sequences(test_text)\n",
    "\n",
    "print(f'test sequences : {test_seq}')"
   ]
  },
  {
   "cell_type": "code",
   "execution_count": 3,
   "metadata": {
    "scrolled": true
   },
   "outputs": [
    {
     "name": "stderr",
     "output_type": "stream",
     "text": [
      "C:\\Users\\sbs\\anaconda3\\envs\\tensorflow\\lib\\site-packages\\tensorflow_core\\python\\keras\\datasets\\imdb.py:129: VisibleDeprecationWarning: Creating an ndarray from ragged nested sequences (which is a list-or-tuple of lists-or-tuples-or ndarrays with different lengths or shapes) is deprecated. If you meant to do this, you must specify 'dtype=object' when creating the ndarray\n",
      "  x_train, y_train = np.array(xs[:idx]), np.array(labels[:idx])\n"
     ]
    },
    {
     "name": "stdout",
     "output_type": "stream",
     "text": [
      "(25000,) (25000,)\n"
     ]
    },
    {
     "name": "stderr",
     "output_type": "stream",
     "text": [
      "C:\\Users\\sbs\\anaconda3\\envs\\tensorflow\\lib\\site-packages\\tensorflow_core\\python\\keras\\datasets\\imdb.py:130: VisibleDeprecationWarning: Creating an ndarray from ragged nested sequences (which is a list-or-tuple of lists-or-tuples-or ndarrays with different lengths or shapes) is deprecated. If you meant to do this, you must specify 'dtype=object' when creating the ndarray\n",
      "  x_test, y_test = np.array(xs[idx:]), np.array(labels[idx:])\n"
     ]
    }
   ],
   "source": [
    "from tensorflow.keras.datasets import imdb\n",
    "\n",
    "num_words = 10000\n",
    "(x_train, y_train), (x_test, y_test) = imdb.load_data(num_words = num_words)\n",
    "print(x_train.shape, y_train.shape)"
   ]
  },
  {
   "cell_type": "code",
   "execution_count": 4,
   "metadata": {},
   "outputs": [
    {
     "name": "stdout",
     "output_type": "stream",
     "text": [
      "[1, 14, 22, 16, 43, 530, 973, 1622, 1385, 65, 458, 4468, 66, 3941, 4, 173, 36, 256, 5, 25, 100, 43, 838, 112, 50, 670, 2, 9, 35, 480, 284, 5, 150, 4, 172, 112, 167, 2, 336, 385, 39, 4, 172, 4536, 1111, 17, 546, 38, 13, 447, 4, 192, 50, 16, 6, 147, 2025, 19, 14, 22, 4, 1920, 4613, 469, 4, 22, 71, 87, 12, 16, 43, 530, 38, 76, 15, 13, 1247, 4, 22, 17, 515, 17, 12, 16, 626, 18, 2, 5, 62, 386, 12, 8, 316, 8, 106, 5, 4, 2223, 5244, 16, 480, 66, 3785, 33, 4, 130, 12, 16, 38, 619, 5, 25, 124, 51, 36, 135, 48, 25, 1415, 33, 6, 22, 12, 215, 28, 77, 52, 5, 14, 407, 16, 82, 2, 8, 4, 107, 117, 5952, 15, 256, 4, 2, 7, 3766, 5, 723, 36, 71, 43, 530, 476, 26, 400, 317, 46, 7, 4, 2, 1029, 13, 104, 88, 4, 381, 15, 297, 98, 32, 2071, 56, 26, 141, 6, 194, 7486, 18, 4, 226, 22, 21, 134, 476, 26, 480, 5, 144, 30, 5535, 18, 51, 36, 28, 224, 92, 25, 104, 4, 226, 65, 16, 38, 1334, 88, 12, 16, 283, 5, 16, 4472, 113, 103, 32, 15, 16, 5345, 19, 178, 32]\n",
      "===========================================================================\n",
      "1\n"
     ]
    }
   ],
   "source": [
    "# 전저리 과정이 수행된 첫번째 데이터, 레이블\n",
    "print(x_train[0])\n",
    "print('===========================================================================')\n",
    "print(y_train[0])"
   ]
  },
  {
   "cell_type": "code",
   "execution_count": 5,
   "metadata": {
    "scrolled": true
   },
   "outputs": [
    {
     "name": "stdout",
     "output_type": "stream",
     "text": [
      "1번째로 가장 많이 쓰인 단어 : the\n",
      "2번째로 가장 많이 쓰인 단어 : and\n",
      "3번째로 가장 많이 쓰인 단어 : a\n"
     ]
    }
   ],
   "source": [
    "imdb_get_word_index = {}\n",
    "\n",
    "for key, value in imdb.get_word_index().items():\n",
    "    imdb_get_word_index[value] = key\n",
    "    \n",
    "for i in range(1, 4):\n",
    "    print('{}번째로 가장 많이 쓰인 단어 : {}'.format(i, imdb_get_word_index[i]))"
   ]
  },
  {
   "cell_type": "code",
   "execution_count": 6,
   "metadata": {},
   "outputs": [
    {
     "name": "stdout",
     "output_type": "stream",
     "text": [
      "before pad_sequences :  218\n",
      "after pad_sequences :  500\n",
      "[[   0    0    0 ...   19  178   32]\n",
      " [   0    0    0 ...   16  145   95]\n",
      " [   0    0    0 ...    7  129  113]\n",
      " ...\n",
      " [   0    0    0 ...    4 3586    2]\n",
      " [   0    0    0 ...   12    9   23]\n",
      " [   0    0    0 ...  204  131    9]]\n",
      "before pad_sequences :  218\n",
      "after pad_sequences :  500\n",
      "[[   1   14   22 ...    0    0    0]\n",
      " [   1  194 1153 ...    0    0    0]\n",
      " [   1   14   47 ...    0    0    0]\n",
      " ...\n",
      " [   1   11    6 ...    0    0    0]\n",
      " [   1 1446 7079 ...    0    0    0]\n",
      " [   1   17    6 ...    0    0    0]]\n"
     ]
    }
   ],
   "source": [
    "# 시퀀스 데이터의 길이가 전부 동일해야 됩니다.\n",
    "# pad_sequences()라는 함수를 사용한다.\n",
    "# 이 함수는 해당 데이터가 지정한 길이보다 짫은 경우 0을 넣고, 긴 경우 잘라내는 역할을 합니다.\n",
    "from tensorflow.keras.preprocessing.sequence import pad_sequences\n",
    "\n",
    "\n",
    "max_len = 500\n",
    "\n",
    "print('before pad_sequences : ', len(x_train[0]))\n",
    "\n",
    "pad_x_train = pad_sequences(x_train, maxlen = max_len, padding = 'pre')\n",
    "pad_x_test = pad_sequences(x_test, maxlen = max_len, padding = 'pre')\n",
    "\n",
    "print('after pad_sequences : ', len(pad_x_train[0]))\n",
    "\n",
    "print(pad_x_train)\n",
    "\n",
    "print('before pad_sequences : ', len(x_train[0]))\n",
    "\n",
    "pad_x_train = pad_sequences(x_train, maxlen = max_len, padding = 'post')\n",
    "pad_x_test = pad_sequences(x_test, maxlen = max_len, padding = 'post')\n",
    "\n",
    "print('after pad_sequences : ', len(pad_x_train[0]))\n",
    "\n",
    "print(pad_x_train)"
   ]
  },
  {
   "cell_type": "code",
   "execution_count": 7,
   "metadata": {},
   "outputs": [
    {
     "name": "stdout",
     "output_type": "stream",
     "text": [
      "Model: \"sequential\"\n",
      "_________________________________________________________________\n",
      "Layer (type)                 Output Shape              Param #   \n",
      "=================================================================\n",
      "embedding (Embedding)        (None, 500, 32)           320000    \n",
      "_________________________________________________________________\n",
      "flatten (Flatten)            (None, 16000)             0         \n",
      "_________________________________________________________________\n",
      "dense (Dense)                (None, 1)                 16001     \n",
      "=================================================================\n",
      "Total params: 336,001\n",
      "Trainable params: 336,001\n",
      "Non-trainable params: 0\n",
      "_________________________________________________________________\n"
     ]
    }
   ],
   "source": [
    "from tensorflow.keras.models import Sequential\n",
    "from tensorflow.keras.layers import Dense, Flatten, Embedding\n",
    "\n",
    "model = Sequential()\n",
    "# 이 층은 모델의 제일 첫번째 층으로만 사용할 수 있다.\n",
    "# Flatten층을 사용하기 위해서 input_length가 전달 된다.\n",
    "model.add(Embedding(input_dim = num_words, output_dim = 32,\n",
    "                   input_length = max_len)) # 순환연결층의 기초에서는 이 변수들만 들어감.\n",
    "model.add(Flatten())\n",
    "model.add(Dense(1, activation = 'sigmoid'))\n",
    "\n",
    "model.compile(optimizer = 'adam', loss = 'binary_crossentropy', metrics = ['acc'])\n",
    "\n",
    "model.summary()"
   ]
  },
  {
   "cell_type": "code",
   "execution_count": 8,
   "metadata": {},
   "outputs": [
    {
     "name": "stdout",
     "output_type": "stream",
     "text": [
      "Train on 20000 samples, validate on 5000 samples\n",
      "Epoch 1/32\n",
      "20000/20000 [==============================] - 4s 204us/sample - loss: 0.4801 - acc: 0.7557 - val_loss: 0.3133 - val_acc: 0.8740\n",
      "Epoch 2/32\n",
      "20000/20000 [==============================] - 4s 178us/sample - loss: 0.2142 - acc: 0.9206 - val_loss: 0.3055 - val_acc: 0.8758\n",
      "Epoch 3/32\n",
      "20000/20000 [==============================] - 4s 178us/sample - loss: 0.1141 - acc: 0.9668 - val_loss: 0.3045 - val_acc: 0.8818\n",
      "Epoch 4/32\n",
      "20000/20000 [==============================] - 3s 175us/sample - loss: 0.0554 - acc: 0.9900 - val_loss: 0.3405 - val_acc: 0.8754\n",
      "Epoch 5/32\n",
      "20000/20000 [==============================] - 4s 177us/sample - loss: 0.0264 - acc: 0.9971 - val_loss: 0.3601 - val_acc: 0.8758\n",
      "Epoch 6/32\n",
      "20000/20000 [==============================] - 4s 178us/sample - loss: 0.0131 - acc: 0.9992 - val_loss: 0.3919 - val_acc: 0.8732\n",
      "Epoch 7/32\n",
      "20000/20000 [==============================] - 4s 183us/sample - loss: 0.0074 - acc: 0.9998 - val_loss: 0.4118 - val_acc: 0.8744\n",
      "Epoch 8/32\n",
      "20000/20000 [==============================] - 4s 178us/sample - loss: 0.0043 - acc: 0.9999 - val_loss: 0.4343 - val_acc: 0.8722\n",
      "Epoch 9/32\n",
      "20000/20000 [==============================] - 4s 180us/sample - loss: 0.0027 - acc: 0.9999 - val_loss: 0.4577 - val_acc: 0.8734\n",
      "Epoch 10/32\n",
      "20000/20000 [==============================] - 4s 177us/sample - loss: 0.0017 - acc: 1.0000 - val_loss: 0.4781 - val_acc: 0.8728\n",
      "Epoch 11/32\n",
      "20000/20000 [==============================] - 3s 173us/sample - loss: 0.0011 - acc: 1.0000 - val_loss: 0.5000 - val_acc: 0.8716\n",
      "Epoch 12/32\n",
      "20000/20000 [==============================] - 4s 175us/sample - loss: 7.0504e-04 - acc: 1.0000 - val_loss: 0.5219 - val_acc: 0.8728\n",
      "Epoch 13/32\n",
      "20000/20000 [==============================] - 3s 171us/sample - loss: 4.6938e-04 - acc: 1.0000 - val_loss: 0.5443 - val_acc: 0.8728\n",
      "Epoch 14/32\n",
      "20000/20000 [==============================] - 4s 179us/sample - loss: 3.2194e-04 - acc: 1.0000 - val_loss: 0.5642 - val_acc: 0.8710\n",
      "Epoch 15/32\n",
      "20000/20000 [==============================] - 3s 172us/sample - loss: 2.2065e-04 - acc: 1.0000 - val_loss: 0.5829 - val_acc: 0.8724\n",
      "Epoch 16/32\n",
      "20000/20000 [==============================] - 3s 173us/sample - loss: 1.5031e-04 - acc: 1.0000 - val_loss: 0.6051 - val_acc: 0.8718\n",
      "Epoch 17/32\n",
      "20000/20000 [==============================] - 3s 170us/sample - loss: 1.0542e-04 - acc: 1.0000 - val_loss: 0.6238 - val_acc: 0.8714\n",
      "Epoch 18/32\n",
      "20000/20000 [==============================] - 4s 176us/sample - loss: 7.4930e-05 - acc: 1.0000 - val_loss: 0.6446 - val_acc: 0.8726\n",
      "Epoch 19/32\n",
      "20000/20000 [==============================] - 4s 197us/sample - loss: 5.2293e-05 - acc: 1.0000 - val_loss: 0.6624 - val_acc: 0.8722\n",
      "Epoch 20/32\n",
      "20000/20000 [==============================] - 4s 187us/sample - loss: 3.6280e-05 - acc: 1.0000 - val_loss: 0.6820 - val_acc: 0.8720\n",
      "Epoch 21/32\n",
      "20000/20000 [==============================] - 3s 172us/sample - loss: 2.5551e-05 - acc: 1.0000 - val_loss: 0.7012 - val_acc: 0.8702\n",
      "Epoch 22/32\n",
      "20000/20000 [==============================] - 4s 184us/sample - loss: 1.8217e-05 - acc: 1.0000 - val_loss: 0.7205 - val_acc: 0.8718\n",
      "Epoch 23/32\n",
      "20000/20000 [==============================] - 4s 186us/sample - loss: 1.2893e-05 - acc: 1.0000 - val_loss: 0.7395 - val_acc: 0.8718\n",
      "Epoch 24/32\n",
      "20000/20000 [==============================] - 4s 178us/sample - loss: 9.1869e-06 - acc: 1.0000 - val_loss: 0.7582 - val_acc: 0.8706\n",
      "Epoch 25/32\n",
      "20000/20000 [==============================] - 4s 182us/sample - loss: 6.5794e-06 - acc: 1.0000 - val_loss: 0.7770 - val_acc: 0.8708\n",
      "Epoch 26/32\n",
      "20000/20000 [==============================] - 4s 185us/sample - loss: 4.7901e-06 - acc: 1.0000 - val_loss: 0.7952 - val_acc: 0.8706\n",
      "Epoch 27/32\n",
      "20000/20000 [==============================] - 4s 182us/sample - loss: 3.4702e-06 - acc: 1.0000 - val_loss: 0.8151 - val_acc: 0.8706\n",
      "Epoch 28/32\n",
      "20000/20000 [==============================] - 4s 175us/sample - loss: 2.5094e-06 - acc: 1.0000 - val_loss: 0.8329 - val_acc: 0.8706\n",
      "Epoch 29/32\n",
      "20000/20000 [==============================] - 4s 180us/sample - loss: 1.8558e-06 - acc: 1.0000 - val_loss: 0.8496 - val_acc: 0.8710\n",
      "Epoch 30/32\n",
      "20000/20000 [==============================] - 4s 179us/sample - loss: 1.3634e-06 - acc: 1.0000 - val_loss: 0.8696 - val_acc: 0.8688\n",
      "Epoch 31/32\n",
      "20000/20000 [==============================] - 4s 179us/sample - loss: 1.0270e-06 - acc: 1.0000 - val_loss: 0.8887 - val_acc: 0.8686\n",
      "Epoch 32/32\n",
      "20000/20000 [==============================] - 4s 179us/sample - loss: 7.7255e-07 - acc: 1.0000 - val_loss: 0.9035 - val_acc: 0.8700\n"
     ]
    }
   ],
   "source": [
    "history = model.fit(pad_x_train, y_train, batch_size = 32, epochs = 32, validation_split = 0.2)"
   ]
  },
  {
   "cell_type": "code",
   "execution_count": 9,
   "metadata": {},
   "outputs": [
    {
     "ename": "NameError",
     "evalue": "name 'his_dic' is not defined",
     "output_type": "error",
     "traceback": [
      "\u001b[1;31m---------------------------------------------------------------------------\u001b[0m",
      "\u001b[1;31mNameError\u001b[0m                                 Traceback (most recent call last)",
      "\u001b[1;32m<ipython-input-9-7d6a16469602>\u001b[0m in \u001b[0;36m<module>\u001b[1;34m\u001b[0m\n\u001b[0;32m      2\u001b[0m \u001b[1;33m\u001b[0m\u001b[0m\n\u001b[0;32m      3\u001b[0m \u001b[0mhis_dict\u001b[0m \u001b[1;33m=\u001b[0m \u001b[0mhistory\u001b[0m\u001b[1;33m.\u001b[0m\u001b[0mhistory\u001b[0m\u001b[1;33m\u001b[0m\u001b[1;33m\u001b[0m\u001b[0m\n\u001b[1;32m----> 4\u001b[1;33m \u001b[0mloss\u001b[0m \u001b[1;33m=\u001b[0m \u001b[0mhis_dic\u001b[0m\u001b[1;33m[\u001b[0m\u001b[1;34m'loss'\u001b[0m\u001b[1;33m]\u001b[0m\u001b[1;33m\u001b[0m\u001b[1;33m\u001b[0m\u001b[0m\n\u001b[0m\u001b[0;32m      5\u001b[0m \u001b[0mval_loss\u001b[0m \u001b[1;33m=\u001b[0m \u001b[0mhis_dict\u001b[0m\u001b[1;33m[\u001b[0m\u001b[1;34m'val_loss'\u001b[0m\u001b[1;33m]\u001b[0m\u001b[1;33m\u001b[0m\u001b[1;33m\u001b[0m\u001b[0m\n\u001b[0;32m      6\u001b[0m \u001b[1;33m\u001b[0m\u001b[0m\n",
      "\u001b[1;31mNameError\u001b[0m: name 'his_dic' is not defined"
     ]
    }
   ],
   "source": [
    "import matplotlib.pyplot as plt\n",
    "\n",
    "his_dict = history.history\n",
    "loss = his_dic['loss']\n",
    "val_loss = his_dict['val_loss']\n",
    "\n",
    "epochs = range(1, len(loss) + 1)\n",
    "fig = plt.figure(figsize = (10, 5))\n",
    "\n",
    "# 학습 및 검증 손실 그리기\n",
    "ax1 = fig.add_subplot(1, 2, 1)\n",
    "ax1.plot(epochs, loss, color = 'blue', label = 'train_loss')\n",
    "ax1.plot(epochs, val_loss, color = 'orange', label = 'val_loss')\n",
    "ax1.set_title('train and val loss')\n",
    "ax1.set_xlabel('epochs')\n",
    "ax1.set_ylabel('loss')\n",
    "ax1.legend()\n",
    "\n",
    "acc = his_dic['acc']\n",
    "val_acc = his_dic['val_acc']\n",
    "\n",
    "ax1 = fig.add_subplot(1, 2, 2)\n",
    "ax1.plot(epochs, acc, color = 'blue', label = 'train_acc')\n",
    "ax1.plot(epochs, val_acc, color = 'orange', label = 'val_acc')\n",
    "ax1.set_title('train and val loss')\n",
    "ax1.set_xlabel('epochs')\n",
    "ax1.set_ylabel('loss')\n",
    "ax1.legend()\n",
    "\n",
    "plt.show()"
   ]
  },
  {
   "cell_type": "code",
   "execution_count": null,
   "metadata": {},
   "outputs": [],
   "source": [
    "model.evaluate(pad_x_test, y_test)\n"
   ]
  },
  {
   "cell_type": "code",
   "execution_count": null,
   "metadata": {},
   "outputs": [],
   "source": [
    "# RNN\n",
    "# 단순한 데이터 표현을 학습해서 데이터 사전을 구축합니다.\n",
    "# 유사한의미와 단어를 비슷한 공간에 매핑할 수 있지만 시퀀스 데이터의 중요한 특정한 순서의 맥락까지 생각해서 매핑하는 것은 아닙니다!\n",
    "# 순환신경망 <-> 완전연결층, 컨볼루션 신경망\n",
    "# 완전연결층, 컨볼루션 신경망 : 피드 포워드 네트워크(feed-forward network)\n",
    "# 신경망이 가지는 모든 출력값이 마지막층인 출력층을 향합니다.\n",
    "\n",
    "# 순환신경망은 각 층의 결과값이 출력층을 향하면서도 동시에 현재 층의 다음 계싼에 사용 노드가 출력값을 반환하는 동시에 이전 상태를 기억하는 메모리 역할을 수행\n",
    "# RNN 셀, 은닉 상태\n",
    "\n",
    "'''\n",
    "# 의사 코드(간략하게 짜놓은 코드)\n",
    "state_t = 0\n",
    "\n",
    "# 각 시점에 해당하는 입력을 반복\n",
    "for input_t in input_sequence:\n",
    "    # 입력과 은닉상태를 활성화 함수에 통과시킵니다.\n",
    "    output_t = activation_funt(input_t, state_t)\n",
    "    # 출력값은 다음 시점을 위한 은닉상태가 됩니다.\n",
    "    state_t = output_t\n",
    "'''"
   ]
  },
  {
   "cell_type": "code",
   "execution_count": 41,
   "metadata": {},
   "outputs": [
    {
     "data": {
      "image/png": "[encoded data removed]",
      "text/plain": [
       "<Figure size 720x360 with 1 Axes>"
      ]
     },
     "metadata": {
      "needs_background": "light"
     },
     "output_type": "display_data"
    }
   ],
   "source": [
    "import numpy as np\n",
    "import matplotlib.pyplot as plt\n",
    "\n",
    "np.random.seed(2020)\n",
    "time = np.arange(30 * 12 + 1)\n",
    "month_time = (time % 30) / 30\n",
    "time_series = 20 * np.where(month_time < 0.5,\n",
    "                           np.cos(2 * np.pi * month_time),\n",
    "                           np.cos(2 * np.pi * month_time) + np.random.random(361))\n",
    "\n",
    "plt.figure(figsize=(10,5))\n",
    "plt.xlabel('Time')\n",
    "plt.ylabel('Value')\n",
    "plt.plot(np.arange(0, 30 * 11 + 1),\n",
    "         time_series[:30 * 11 +1],\n",
    "         color = 'black', alpha = 0.7)\n",
    "plt.plot(np.arange(30 * 11,30 * 12 + 1),\n",
    "        time_series[30 * 11:],\n",
    "        color='orange')\n",
    "plt.show()"
   ]
  },
  {
   "cell_type": "code",
   "execution_count": 45,
   "metadata": {},
   "outputs": [
    {
     "name": "stdout",
     "output_type": "stream",
     "text": [
      "train : (330, 10, 1) (330, 1)\n",
      "test : (21, 10, 1) (21, 1)\n"
     ]
    }
   ],
   "source": [
    "def make_sequence(time_series, n):\n",
    "    x_train, y_train = list(), list()\n",
    "    \n",
    "    for i in range(len(time_series)):\n",
    "        x = time_series[i:(i + n)]\n",
    "        if (i + n) < len(time_series):\n",
    "            x_train.append(x)\n",
    "            y_train.append(time_series[i + n])\n",
    "        else:\n",
    "            break\n",
    "    return np.array(x_train), np.array(y_train)\n",
    "\n",
    "n = 10\n",
    "x_train, y_train = make_sequence(time_series, n)\n",
    "\n",
    "x_train = x_train.reshape(-1, n, 1)\n",
    "y_train = y_train.reshape(-1, 1)\n",
    "\n",
    "from sklearn.model_selection import train_test_split\n",
    "\n",
    "patial_x_train = x_train[:30 * 11]\n",
    "patial_y_train = y_train[:30 * 11]\n",
    "x_test = x_train[30 * 11:]\n",
    "y_test = y_train[30 * 11:]\n",
    "\n",
    "print('train :', patial_x_train.shape, patial_y_train.shape)\n",
    "print('test :', x_test.shape, y_test.shape)"
   ]
  },
  {
   "cell_type": "code",
   "execution_count": 47,
   "metadata": {},
   "outputs": [
    {
     "name": "stdout",
     "output_type": "stream",
     "text": [
      "[ 1  2  3  4  5  6  7  8  9 10] | 11\n",
      "[ 2  3  4  5  6  7  8  9 10 11] | 12\n",
      "[ 3  4  5  6  7  8  9 10 11 12] | 13\n"
     ]
    }
   ],
   "source": [
    "test_arr = np.arange(100)\n",
    "a, b = make_sequence(test_arr, 10)\n",
    "\n",
    "for i in range(1, 4):\n",
    "    print(a[i], '|', b[i])"
   ]
  },
  {
   "cell_type": "code",
   "execution_count": 57,
   "metadata": {},
   "outputs": [
    {
     "name": "stdout",
     "output_type": "stream",
     "text": [
      "Model: \"sequential_5\"\n",
      "_________________________________________________________________\n",
      "Layer (type)                 Output Shape              Param #   \n",
      "=================================================================\n",
      "simple_rnn_3 (SimpleRNN)     (None, 32)                1088      \n",
      "_________________________________________________________________\n",
      "dense_4 (Dense)              (None, 1)                 33        \n",
      "=================================================================\n",
      "Total params: 1,121\n",
      "Trainable params: 1,121\n",
      "Non-trainable params: 0\n",
      "_________________________________________________________________\n"
     ]
    }
   ],
   "source": [
    "# SimpleRNN층 사용\n",
    "# SimpleRNN(batch_size, timesteps, input_dim) 입력\n",
    "# (batch_size, uints) 형태로 출력. uints -> 차원의 값\n",
    "\n",
    "from tensorflow.keras.layers import SimpleRNN, Flatten, Dense\n",
    "from tensorflow.keras.models import Sequential\n",
    "\n",
    "model = Sequential()\n",
    "model.add(SimpleRNN(units = 32, activation = 'tanh', input_shape = (n, 1)))\n",
    "model.add(Dense(1, activation = 'linear'))\n",
    "\n",
    "model.compile(optimizer = 'adam', loss = 'mse')\n",
    "model.summary()"
   ]
  },
  {
   "cell_type": "code",
   "execution_count": 58,
   "metadata": {},
   "outputs": [
    {
     "name": "stdout",
     "output_type": "stream",
     "text": [
      "Train on 351 samples\n",
      "Epoch 1/100\n",
      "351/351 [==============================] - 1s 2ms/sample - loss: 218.5651\n",
      "Epoch 2/100\n",
      "351/351 [==============================] - 0s 185us/sample - loss: 171.7635\n",
      "Epoch 3/100\n",
      "351/351 [==============================] - 0s 180us/sample - loss: 137.1847\n",
      "Epoch 4/100\n",
      "351/351 [==============================] - 0s 185us/sample - loss: 122.0033\n",
      "Epoch 5/100\n",
      "351/351 [==============================] - 0s 180us/sample - loss: 109.6567\n",
      "Epoch 6/100\n",
      "351/351 [==============================] - 0s 177us/sample - loss: 96.2227\n",
      "Epoch 7/100\n",
      "351/351 [==============================] - 0s 177us/sample - loss: 88.8938\n",
      "Epoch 8/100\n",
      "351/351 [==============================] - 0s 180us/sample - loss: 83.4095\n",
      "Epoch 9/100\n",
      "351/351 [==============================] - 0s 180us/sample - loss: 78.9703\n",
      "Epoch 10/100\n",
      "351/351 [==============================] - 0s 180us/sample - loss: 74.9914\n",
      "Epoch 11/100\n",
      "351/351 [==============================] - 0s 183us/sample - loss: 71.6530\n",
      "Epoch 12/100\n",
      "351/351 [==============================] - 0s 177us/sample - loss: 68.3838\n",
      "Epoch 13/100\n",
      "351/351 [==============================] - 0s 177us/sample - loss: 65.7037\n",
      "Epoch 14/100\n",
      "351/351 [==============================] - 0s 177us/sample - loss: 63.3541\n",
      "Epoch 15/100\n",
      "351/351 [==============================] - 0s 177us/sample - loss: 61.1894\n",
      "Epoch 16/100\n",
      "351/351 [==============================] - 0s 177us/sample - loss: 59.0585\n",
      "Epoch 17/100\n",
      "351/351 [==============================] - 0s 174us/sample - loss: 57.2710\n",
      "Epoch 18/100\n",
      "351/351 [==============================] - 0s 177us/sample - loss: 55.8618\n",
      "Epoch 19/100\n",
      "351/351 [==============================] - 0s 177us/sample - loss: 54.3998\n",
      "Epoch 20/100\n",
      "351/351 [==============================] - 0s 177us/sample - loss: 53.2336\n",
      "Epoch 21/100\n",
      "351/351 [==============================] - 0s 177us/sample - loss: 52.2090\n",
      "Epoch 22/100\n",
      "351/351 [==============================] - 0s 177us/sample - loss: 50.8119\n",
      "Epoch 23/100\n",
      "351/351 [==============================] - 0s 174us/sample - loss: 49.8431\n",
      "Epoch 24/100\n",
      "351/351 [==============================] - 0s 180us/sample - loss: 48.5191\n",
      "Epoch 25/100\n",
      "351/351 [==============================] - 0s 177us/sample - loss: 47.3319\n",
      "Epoch 26/100\n",
      "351/351 [==============================] - 0s 177us/sample - loss: 45.9323\n",
      "Epoch 27/100\n",
      "351/351 [==============================] - 0s 180us/sample - loss: 44.6119\n",
      "Epoch 28/100\n",
      "351/351 [==============================] - 0s 174us/sample - loss: 43.0306\n",
      "Epoch 29/100\n",
      "351/351 [==============================] - 0s 177us/sample - loss: 41.9163\n",
      "Epoch 30/100\n",
      "351/351 [==============================] - 0s 177us/sample - loss: 40.6407\n",
      "Epoch 31/100\n",
      "351/351 [==============================] - 0s 180us/sample - loss: 39.4462\n",
      "Epoch 32/100\n",
      "351/351 [==============================] - 0s 180us/sample - loss: 37.6777\n",
      "Epoch 33/100\n",
      "351/351 [==============================] - 0s 177us/sample - loss: 36.3277\n",
      "Epoch 34/100\n",
      "351/351 [==============================] - 0s 180us/sample - loss: 35.3477\n",
      "Epoch 35/100\n",
      "351/351 [==============================] - 0s 180us/sample - loss: 34.0180\n",
      "Epoch 36/100\n",
      "351/351 [==============================] - 0s 177us/sample - loss: 32.8517\n",
      "Epoch 37/100\n",
      "351/351 [==============================] - 0s 177us/sample - loss: 31.9426\n",
      "Epoch 38/100\n",
      "351/351 [==============================] - 0s 177us/sample - loss: 31.6965\n",
      "Epoch 39/100\n",
      "351/351 [==============================] - 0s 177us/sample - loss: 29.6872\n",
      "Epoch 40/100\n",
      "351/351 [==============================] - 0s 174us/sample - loss: 29.1272\n",
      "Epoch 41/100\n",
      "351/351 [==============================] - 0s 180us/sample - loss: 28.0685\n",
      "Epoch 42/100\n",
      "351/351 [==============================] - 0s 174us/sample - loss: 27.2888\n",
      "Epoch 43/100\n",
      "351/351 [==============================] - 0s 180us/sample - loss: 26.6231\n",
      "Epoch 44/100\n",
      "351/351 [==============================] - 0s 177us/sample - loss: 25.9568\n",
      "Epoch 45/100\n",
      "351/351 [==============================] - 0s 174us/sample - loss: 25.8296\n",
      "Epoch 46/100\n",
      "351/351 [==============================] - 0s 177us/sample - loss: 25.0897\n",
      "Epoch 47/100\n",
      "351/351 [==============================] - 0s 177us/sample - loss: 24.1590\n",
      "Epoch 48/100\n",
      "351/351 [==============================] - 0s 177us/sample - loss: 23.7330\n",
      "Epoch 49/100\n",
      "351/351 [==============================] - 0s 177us/sample - loss: 23.6239\n",
      "Epoch 50/100\n",
      "351/351 [==============================] - 0s 180us/sample - loss: 22.7427\n",
      "Epoch 51/100\n",
      "351/351 [==============================] - 0s 180us/sample - loss: 22.1964\n",
      "Epoch 52/100\n",
      "351/351 [==============================] - 0s 180us/sample - loss: 22.3519\n",
      "Epoch 53/100\n",
      "351/351 [==============================] - 0s 180us/sample - loss: 21.8251\n",
      "Epoch 54/100\n",
      "351/351 [==============================] - 0s 177us/sample - loss: 21.3583\n",
      "Epoch 55/100\n",
      "351/351 [==============================] - 0s 177us/sample - loss: 21.2308\n",
      "Epoch 56/100\n",
      "351/351 [==============================] - 0s 174us/sample - loss: 21.3370\n",
      "Epoch 57/100\n",
      "351/351 [==============================] - 0s 174us/sample - loss: 20.9408\n",
      "Epoch 58/100\n",
      "351/351 [==============================] - 0s 174us/sample - loss: 20.4470\n",
      "Epoch 59/100\n",
      "351/351 [==============================] - 0s 177us/sample - loss: 20.2519\n",
      "Epoch 60/100\n",
      "351/351 [==============================] - 0s 177us/sample - loss: 20.1652\n",
      "Epoch 61/100\n",
      "351/351 [==============================] - 0s 177us/sample - loss: 20.1291\n",
      "Epoch 62/100\n",
      "351/351 [==============================] - 0s 177us/sample - loss: 19.4819\n",
      "Epoch 63/100\n",
      "351/351 [==============================] - 0s 177us/sample - loss: 19.3156\n",
      "Epoch 64/100\n",
      "351/351 [==============================] - 0s 177us/sample - loss: 19.6636\n",
      "Epoch 65/100\n",
      "351/351 [==============================] - 0s 177us/sample - loss: 20.6965\n",
      "Epoch 66/100\n",
      "351/351 [==============================] - 0s 180us/sample - loss: 19.3822\n",
      "Epoch 67/100\n",
      "351/351 [==============================] - 0s 180us/sample - loss: 19.2474\n",
      "Epoch 68/100\n",
      "351/351 [==============================] - 0s 177us/sample - loss: 18.6000\n",
      "Epoch 69/100\n",
      "351/351 [==============================] - 0s 177us/sample - loss: 18.4427\n",
      "Epoch 70/100\n",
      "351/351 [==============================] - 0s 177us/sample - loss: 18.2752\n",
      "Epoch 71/100\n",
      "351/351 [==============================] - 0s 177us/sample - loss: 18.3745\n",
      "Epoch 72/100\n",
      "351/351 [==============================] - 0s 177us/sample - loss: 18.0043\n",
      "Epoch 73/100\n",
      "351/351 [==============================] - 0s 174us/sample - loss: 18.2145\n",
      "Epoch 74/100\n",
      "351/351 [==============================] - 0s 177us/sample - loss: 18.1469\n",
      "Epoch 75/100\n",
      "351/351 [==============================] - 0s 180us/sample - loss: 17.6126\n",
      "Epoch 76/100\n",
      "351/351 [==============================] - 0s 177us/sample - loss: 17.4858\n",
      "Epoch 77/100\n",
      "351/351 [==============================] - 0s 180us/sample - loss: 17.4521\n",
      "Epoch 78/100\n",
      "351/351 [==============================] - 0s 177us/sample - loss: 17.3609\n",
      "Epoch 79/100\n",
      "351/351 [==============================] - 0s 177us/sample - loss: 17.4059\n",
      "Epoch 80/100\n",
      "351/351 [==============================] - 0s 180us/sample - loss: 16.7048\n",
      "Epoch 81/100\n",
      "351/351 [==============================] - 0s 177us/sample - loss: 16.5642\n",
      "Epoch 82/100\n",
      "351/351 [==============================] - 0s 177us/sample - loss: 16.4971\n",
      "Epoch 83/100\n",
      "351/351 [==============================] - 0s 183us/sample - loss: 16.5795\n",
      "Epoch 84/100\n",
      "351/351 [==============================] - 0s 177us/sample - loss: 16.5875\n",
      "Epoch 85/100\n",
      "351/351 [==============================] - 0s 180us/sample - loss: 16.5901\n",
      "Epoch 86/100\n",
      "351/351 [==============================] - 0s 180us/sample - loss: 16.3851\n",
      "Epoch 87/100\n",
      "351/351 [==============================] - 0s 180us/sample - loss: 16.1690\n",
      "Epoch 88/100\n",
      "351/351 [==============================] - 0s 174us/sample - loss: 16.0565\n",
      "Epoch 89/100\n",
      "351/351 [==============================] - 0s 177us/sample - loss: 15.8423\n",
      "Epoch 90/100\n",
      "351/351 [==============================] - 0s 180us/sample - loss: 16.1726\n",
      "Epoch 91/100\n",
      "351/351 [==============================] - 0s 180us/sample - loss: 16.5750\n",
      "Epoch 92/100\n",
      "351/351 [==============================] - 0s 183us/sample - loss: 15.6192\n",
      "Epoch 93/100\n",
      "351/351 [==============================] - 0s 180us/sample - loss: 15.7187\n"
     ]
    },
    {
     "name": "stdout",
     "output_type": "stream",
     "text": [
      "Epoch 94/100\n",
      "351/351 [==============================] - 0s 177us/sample - loss: 15.6837\n",
      "Epoch 95/100\n",
      "351/351 [==============================] - 0s 177us/sample - loss: 15.2976\n",
      "Epoch 96/100\n",
      "351/351 [==============================] - 0s 177us/sample - loss: 15.2664\n",
      "Epoch 97/100\n",
      "351/351 [==============================] - 0s 177us/sample - loss: 16.0835\n",
      "Epoch 98/100\n",
      "351/351 [==============================] - 0s 174us/sample - loss: 15.5272\n",
      "Epoch 99/100\n",
      "351/351 [==============================] - 0s 177us/sample - loss: 15.1455\n",
      "Epoch 100/100\n",
      "351/351 [==============================] - 0s 177us/sample - loss: 15.2243\n"
     ]
    },
    {
     "data": {
      "text/plain": [
       "<tensorflow.python.keras.callbacks.History at 0x2389e4fcd08>"
      ]
     },
     "execution_count": 58,
     "metadata": {},
     "output_type": "execute_result"
    }
   ],
   "source": [
    "model.fit(x_train, y_train, epochs = 100, batch_size = 12)"
   ]
  },
  {
   "cell_type": "code",
   "execution_count": 59,
   "metadata": {},
   "outputs": [
    {
     "data": {
      "text/plain": [
       "[<matplotlib.lines.Line2D at 0x238b8157e08>]"
      ]
     },
     "execution_count": 59,
     "metadata": {},
     "output_type": "execute_result"
    },
    {
     "data": {
      "image/png": "[encoded data removed]",
      "text/plain": [
       "<Figure size 1080x360 with 1 Axes>"
      ]
     },
     "metadata": {
      "needs_background": "light"
     },
     "output_type": "display_data"
    }
   ],
   "source": [
    "pred = model.predict(x_test)\n",
    "\n",
    "pred_range = np.arange(len(y_train),len(y_train) + len(pred))\n",
    "\n",
    "plt.figure(figsize = (15, 5))\n",
    "plt.xlabel('Time')\n",
    "plt.ylabel('Value')\n",
    "plt.plot(pred_range, y_test.reshape(-1,), color = 'orange', label='ground-truth')\n",
    "plt.plot(pred_range, pred.reshape(-1,), color='blue', label = 'prediction')"
   ]
  },
  {
   "cell_type": "code",
   "execution_count": null,
   "metadata": {},
   "outputs": [],
   "source": [
    "IMDB 데이터셋을 적용"
   ]
  },
  {
   "cell_type": "code",
   "execution_count": 62,
   "metadata": {},
   "outputs": [
    {
     "name": "stdout",
     "output_type": "stream",
     "text": [
      "(25000,) (25000,)\n"
     ]
    }
   ],
   "source": [
    "from tensorflow.keras.datasets import imdb\n",
    "\n",
    "num_words = 1000\n",
    "(x_train, y_train), (x_test, y_test) = imdb.load_data(num_words = num_words)\n",
    "print(x_train.shape, y_train.shape)"
   ]
  },
  {
   "cell_type": "code",
   "execution_count": 66,
   "metadata": {},
   "outputs": [
    {
     "name": "stdout",
     "output_type": "stream",
     "text": [
      "10번째로 많이 쓰인 단어 : i\n",
      "11번째로 많이 쓰인 단어 : this\n",
      "12번째로 많이 쓰인 단어 : that\n",
      "13번째로 많이 쓰인 단어 : was\n",
      "14번째로 많이 쓰인 단어 : as\n",
      "15번째로 많이 쓰인 단어 : for\n",
      "16번째로 많이 쓰인 단어 : with\n",
      "17번째로 많이 쓰인 단어 : movie\n",
      "18번째로 많이 쓰인 단어 : but\n",
      "19번째로 많이 쓰인 단어 : film\n"
     ]
    }
   ],
   "source": [
    "imdb_get_word_index = {}\n",
    "\n",
    "for key, value in imdb.get_word_index().items():\n",
    "    imdb_get_word_index[value] = key\n",
    "    \n",
    "for i in range(10,20):\n",
    "    print('{}번째로 많이 쓰인 단어 : {}'.format(i, imdb_get_word_index[i]))"
   ]
  },
  {
   "cell_type": "code",
   "execution_count": null,
   "metadata": {},
   "outputs": [],
   "source": []
  }
 ],
 "metadata": {
  "kernelspec": {
   "display_name": "Python 3",
   "language": "python",
   "name": "python3"
  },
  "language_info": {
   "codemirror_mode": {
    "name": "ipython",
    "version": 3
   },
   "file_extension": ".py",
   "mimetype": "text/x-python",
   "name": "python",
   "nbconvert_exporter": "python",
   "pygments_lexer": "ipython3",
   "version": "3.7.9"
  }
 },
 "nbformat": 4,
 "nbformat_minor": 4
}
