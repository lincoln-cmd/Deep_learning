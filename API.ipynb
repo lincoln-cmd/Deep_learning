{
 "cells": [
  {
   "cell_type": "markdown",
   "metadata": {},
   "source": [
    "Sequential() 통해서 간단한 컨볼루션 층을 가진 모델을을 수성해 보세요."
   ]
  },
  {
   "cell_type": "code",
   "execution_count": 24,
   "metadata": {},
   "outputs": [
    {
     "ename": "SyntaxError",
     "evalue": "invalid syntax (<ipython-input-24-35c740af615e>, line 29)",
     "output_type": "error",
     "traceback": [
      "\u001b[1;36m  File \u001b[1;32m\"<ipython-input-24-35c740af615e>\"\u001b[1;36m, line \u001b[1;32m29\u001b[0m\n\u001b[1;33m    model.add(MaxPool1D(pool_size = 32, padding = 'same'))\u001b[0m\n\u001b[1;37m        ^\u001b[0m\n\u001b[1;31mSyntaxError\u001b[0m\u001b[1;31m:\u001b[0m invalid syntax\n"
     ]
    }
   ],
   "source": [
    "import tensorflow as tf\n",
    "\n",
    "from tensorflow.keras.datasets import fashion_mnist\n",
    "\n",
    "(x_train, y_train), (x_test, y_test) = fashion_mnist.load_data()\n",
    "\n",
    "from sklearn.model_selection import train_test_split\n",
    "\n",
    "x_train, x_val, y_train, y_val = train_test_split(x_train, y_train, test_size = 0.3)\n",
    "\n",
    "\n",
    "\n",
    "from tensorflow.keras.models import Sequential\n",
    "from tensorflow.keras.layers import Dense, SimpleRNN, Embedding, Conv1D, MaxPool1D\n",
    "\n",
    "\n",
    "batch_size = 1000\n",
    "\n",
    "model = Sequential()\n",
    "model.add(Embedding(batch_size = batch_size, input_dim = 500,\n",
    "                   output_dim = 32))\n",
    "model.add(SimpleRNN(batch_size = batch_size, input_dim = 32,\n",
    "                   units = 32))\n",
    "# Conv1D() :\n",
    "# input_shape = (batch_size, timesteps, length of vectors)\n",
    "model.add(Conv1D(32, 3, input_shape = (1,2,3), activation = 'relu'))\n",
    "model.add(MaxPoo1D(pool_size = 32, padding = 'same'))\n",
    "model.add(Conv1D(16, 3, activation = 'relu')\n",
    "model.add(MaxPool1D(pool_size = 32, padding = 'same'))\n",
    "model.add(Dense(1, activation = 'softmax'))\n",
    "\n",
    "model.compile(optimizer = 'adam',\n",
    "             loss = 'sparse_categorical_crossentropy',\n",
    "             metrics = ['acc'])\n",
    "\n",
    "model.fit(x_train, y_train, batch_size = batch_size, epochs = 10,\n",
    "         validation_split = 0.2)"
   ]
  },
  {
   "cell_type": "code",
   "execution_count": null,
   "metadata": {},
   "outputs": [],
   "source": [
    "import numpy as np\n",
    "import matplotlib.pyplot as plt\n"
   ]
  },
  {
   "cell_type": "code",
   "execution_count": 28,
   "metadata": {},
   "outputs": [
    {
     "name": "stdout",
     "output_type": "stream",
     "text": [
      "Failed to import pydot. You must install pydot and graphviz for `pydotprint` to work.\n"
     ]
    }
   ],
   "source": [
    "from tensorflow.keras.models import Sequential\n",
    "from tensorflow.keras.layers import Conv2D, MaxPooling2D,Dense, GlobalAveragePooling2D\n",
    "from tensorflow.keras.utils import plot_model\n",
    "\n",
    "model = Sequential()\n",
    "\n",
    "model.add(Conv2D(32, (3,3), activation = 'relu', input_shape = (28, 28, 1)))\n",
    "model.add(Conv2D(32, (3, 3), activation = 'relu'))\n",
    "model.add(MaxPooling2D(strides = 2))\n",
    "model.add(GlobalAveragePooling2D())\n",
    "model.add(Dense(1, activation = 'sigmoid'))\n",
    "\n",
    "plot_model(model)"
   ]
  },
  {
   "cell_type": "markdown",
   "metadata": {},
   "source": [
    "위의 모델 구성을 서브클래싱을 통해서 모델을 구성해주세요."
   ]
  },
  {
   "cell_type": "code",
   "execution_count": 40,
   "metadata": {},
   "outputs": [],
   "source": [
    "import tensorflow as tf\n",
    "import tensorflow.keras\n",
    "\n",
    "\n",
    "class sub_model():\n",
    "    import tensorflow as tf\n",
    "    import tensorflow.keras\n",
    "    \n",
    "    def __init__(self, model):\n",
    "        tensorflow.keras = self.tensorflow.keras\n",
    "        model = self.tensorflow.keras.models.Sequential()\n",
    "        \n",
    "    def eg1(self, _input_shape, activation1, activation2, _strides, dim1, dim2):\n",
    "        self.model.add(Conv2D(dim1, dim2, activation = activation1, input_shape = _input_shape))\n",
    "        self.model.add(Conv2D(dim1, dim2, activation = activation1))\n",
    "        self.model.add(MaxPooling2D(strides = _strides))\n",
    "        self.model.add(GlobalAveragePooling2D())\n",
    "        self.model.add(Dense(1, activation = activation2))\n",
    "        \n",
    "        return plot_model(model)"
   ]
  },
  {
   "cell_type": "code",
   "execution_count": null,
   "metadata": {},
   "outputs": [],
   "source": []
  },
  {
   "cell_type": "code",
   "execution_count": null,
   "metadata": {},
   "outputs": [],
   "source": []
  }
 ],
 "metadata": {
  "kernelspec": {
   "display_name": "Python 3",
   "language": "python",
   "name": "python3"
  },
  "language_info": {
   "codemirror_mode": {
    "name": "ipython",
    "version": 3
   },
   "file_extension": ".py",
   "mimetype": "text/x-python",
   "name": "python",
   "nbconvert_exporter": "python",
   "pygments_lexer": "ipython3",
   "version": "3.7.9"
  }
 },
 "nbformat": 4,
 "nbformat_minor": 4
}
